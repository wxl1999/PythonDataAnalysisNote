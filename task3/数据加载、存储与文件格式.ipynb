{
 "cells": [
  {
   "cell_type": "markdown",
   "metadata": {},
   "source": [
    "# 数据加载、存储与文件格式"
   ]
  },
  {
   "cell_type": "markdown",
   "metadata": {},
   "source": [
    "## 读写文本格式的数据"
   ]
  },
  {
   "cell_type": "markdown",
   "metadata": {},
   "source": [
    "pandas提供了一些用于将表格型数据读取为DataFrame对象的函数。"
   ]
  },
  {
   "cell_type": "markdown",
   "metadata": {},
   "source": [
    "![](读取表格型数据.jpg)"
   ]
  },
  {
   "cell_type": "markdown",
   "metadata": {},
   "source": [
    "![](read_csv的参数-1.jpg)"
   ]
  },
  {
   "cell_type": "markdown",
   "metadata": {},
   "source": [
    "![](read_csv的参数-2.jpg)"
   ]
  },
  {
   "cell_type": "markdown",
   "metadata": {},
   "source": [
    "![](read_csv的参数-3.jpg)"
   ]
  },
  {
   "cell_type": "markdown",
   "metadata": {},
   "source": [
    "- 指定分隔符可以使用正则表达式\n",
    "- 可以用skiprows跳过文件的第一行、第三行和第四行\n",
    "- na_values可以用一个列表或集合的字符串表示缺失值，字典的各列可以使用不同的NA标记值"
   ]
  },
  {
   "cell_type": "markdown",
   "metadata": {},
   "source": [
    "### 逐块读取文本文件"
   ]
  },
  {
   "cell_type": "markdown",
   "metadata": {},
   "source": [
    "在处理很大的文件时，或找出大文件中的参数集以便于后续处理时，你可能只想读取文件的一小部分或逐块对文件进行迭代。"
   ]
  },
  {
   "cell_type": "markdown",
   "metadata": {},
   "source": [
    "- 如果只想读取几行（避免读取整个文件），通过nrows进行指定即可\n",
    "- 要逐块读取文件，可以指定chunksize（行数）"
   ]
  },
  {
   "cell_type": "code",
   "execution_count": 2,
   "metadata": {},
   "outputs": [
    {
     "name": "stderr",
     "output_type": "stream",
     "text": [
      "C:\\code\\Anaconda\\lib\\site-packages\\numpy\\core\\__init__.py:29: UserWarning: loaded more than 1 DLL from .libs:\n",
      "C:\\code\\Anaconda\\lib\\site-packages\\numpy\\.libs\\libopenblas.CSRRD7HKRKC3T3YXA7VY7TAZGLSWDKW6.gfortran-win_amd64.dll\n",
      "C:\\code\\Anaconda\\lib\\site-packages\\numpy\\.libs\\libopenblas.IPBC74C7KURV7CB2PKT5Z5FNR3SIBV4J.gfortran-win_amd64.dll\n",
      "  stacklevel=1)\n"
     ]
    }
   ],
   "source": [
    "import pandas as pd"
   ]
  },
  {
   "cell_type": "code",
   "execution_count": 3,
   "metadata": {},
   "outputs": [],
   "source": [
    "chunker = pd.read_csv('ex6.csv', chunksize=1000)"
   ]
  },
  {
   "cell_type": "code",
   "execution_count": 4,
   "metadata": {},
   "outputs": [
    {
     "data": {
      "text/plain": [
       "<pandas.io.parsers.TextFileReader at 0x244d1f69518>"
      ]
     },
     "execution_count": 4,
     "metadata": {},
     "output_type": "execute_result"
    }
   ],
   "source": [
    "chunker"
   ]
  },
  {
   "cell_type": "code",
   "execution_count": 5,
   "metadata": {},
   "outputs": [],
   "source": [
    "tot = pd.Series([])\n",
    "for piece in chunker:\n",
    "    tot = tot.add(piece['key'].value_counts(), fill_value=0)\n",
    "tot = tot.sort_values(ascending=False)"
   ]
  },
  {
   "cell_type": "code",
   "execution_count": 6,
   "metadata": {},
   "outputs": [
    {
     "data": {
      "text/plain": [
       "E    368.0\n",
       "X    364.0\n",
       "L    346.0\n",
       "O    343.0\n",
       "Q    340.0\n",
       "M    338.0\n",
       "J    337.0\n",
       "F    335.0\n",
       "K    334.0\n",
       "H    330.0\n",
       "V    328.0\n",
       "I    327.0\n",
       "U    326.0\n",
       "P    324.0\n",
       "D    320.0\n",
       "A    320.0\n",
       "R    318.0\n",
       "Y    314.0\n",
       "G    308.0\n",
       "S    308.0\n",
       "N    306.0\n",
       "W    305.0\n",
       "T    304.0\n",
       "B    302.0\n",
       "Z    288.0\n",
       "C    286.0\n",
       "4    171.0\n",
       "6    166.0\n",
       "7    164.0\n",
       "8    162.0\n",
       "3    162.0\n",
       "5    157.0\n",
       "2    152.0\n",
       "0    151.0\n",
       "9    150.0\n",
       "1    146.0\n",
       "dtype: float64"
      ]
     },
     "execution_count": 6,
     "metadata": {},
     "output_type": "execute_result"
    }
   ],
   "source": [
    "tot"
   ]
  },
  {
   "cell_type": "markdown",
   "metadata": {},
   "source": [
    ">TextParser还有一个get_chunk方法，它使你可以读取任意大小的块。"
   ]
  },
  {
   "cell_type": "markdown",
   "metadata": {},
   "source": [
    "### 将数据写出到文本格式"
   ]
  },
  {
   "cell_type": "markdown",
   "metadata": {},
   "source": [
    "to_csv方法"
   ]
  },
  {
   "cell_type": "markdown",
   "metadata": {},
   "source": [
    "- sep:指定分隔符\n",
    "- na_rep:指定缺失值的输出，默认为空字符串\n",
    "- index=False, header=False:不输出行列标签"
   ]
  },
  {
   "cell_type": "markdown",
   "metadata": {},
   "source": [
    "### 处理分隔符格式"
   ]
  },
  {
   "cell_type": "markdown",
   "metadata": {},
   "source": [
    "对于任何单字符分隔符文件，可以直接使用Python内置的csv模块。\n",
    "\n",
    "将任意已打开的文件或文件型的对象传给csv.reader"
   ]
  },
  {
   "cell_type": "markdown",
   "metadata": {},
   "source": [
    "CSV文件的形式有很多。只需定义csv.Dialect的一个子类即可定义出新格式（如专门的分隔符、字符串引用约定、行结束符等）"
   ]
  },
  {
   "cell_type": "markdown",
   "metadata": {},
   "source": [
    "这些参数也可以直接在csv.reader中设置"
   ]
  },
  {
   "cell_type": "markdown",
   "metadata": {},
   "source": [
    "![](csv参数.jpg)"
   ]
  },
  {
   "cell_type": "markdown",
   "metadata": {},
   "source": [
    ">对于那些使用复杂分隔符或多字符分隔符的文件, 只能使用字符串的split方法或正则表达式方法re.split进行行拆分和其他整理工作了"
   ]
  },
  {
   "cell_type": "markdown",
   "metadata": {},
   "source": [
    "要手工输出分隔符文件，可以使用csv.writer。\n",
    "\n",
    "它接受一个已打开且可写的文件对象以及跟csv.reader相同的那些参数和格式化选项"
   ]
  },
  {
   "cell_type": "markdown",
   "metadata": {},
   "source": [
    "### JSON数据"
   ]
  },
  {
   "cell_type": "markdown",
   "metadata": {},
   "source": [
    "python自带json库"
   ]
  },
  {
   "cell_type": "markdown",
   "metadata": {},
   "source": [
    "- json.loads即可将JSON字符串转换成Python形式\n",
    "- json.dumps则将Python对象转换成JSON格式"
   ]
  },
  {
   "cell_type": "markdown",
   "metadata": {},
   "source": [
    "pandas"
   ]
  },
  {
   "cell_type": "markdown",
   "metadata": {},
   "source": [
    "- pandas.read_json可以自动将特别格式的JSON数据集转换为Series或DataFrame。\n",
    "- 将数据从pandas输出到JSON，可以使用to_json方法"
   ]
  },
  {
   "cell_type": "markdown",
   "metadata": {},
   "source": [
    "### XML和HTML：Web信息收集"
   ]
  },
  {
   "cell_type": "markdown",
   "metadata": {},
   "source": [
    "Python有许多可以读写常见的HTML和XML格式数据的库，包括lxml、BeautifulSoup和html5lib。\n",
    "\n",
    "lxml的速度比较快，但其它的库处理有误的HTML或XML文件更好。"
   ]
  },
  {
   "cell_type": "markdown",
   "metadata": {},
   "source": [
    "pandas有一个内置的功能，read_html，它可以使用lxml和Beautiful Soup自动将HTML文件中的表格解析为DataFrame对象。"
   ]
  },
  {
   "cell_type": "code",
   "execution_count": 7,
   "metadata": {},
   "outputs": [],
   "source": [
    "tables = pd.read_html('fdic_failed_bank_list.html')"
   ]
  },
  {
   "cell_type": "code",
   "execution_count": 8,
   "metadata": {},
   "outputs": [
    {
     "data": {
      "text/plain": [
       "1"
      ]
     },
     "execution_count": 8,
     "metadata": {},
     "output_type": "execute_result"
    }
   ],
   "source": [
    "len(tables)"
   ]
  },
  {
   "cell_type": "code",
   "execution_count": 11,
   "metadata": {},
   "outputs": [],
   "source": [
    "failures = tables[0]"
   ]
  },
  {
   "cell_type": "code",
   "execution_count": 12,
   "metadata": {},
   "outputs": [
    {
     "data": {
      "text/html": [
       "<div>\n",
       "<style scoped>\n",
       "    .dataframe tbody tr th:only-of-type {\n",
       "        vertical-align: middle;\n",
       "    }\n",
       "\n",
       "    .dataframe tbody tr th {\n",
       "        vertical-align: top;\n",
       "    }\n",
       "\n",
       "    .dataframe thead th {\n",
       "        text-align: right;\n",
       "    }\n",
       "</style>\n",
       "<table border=\"1\" class=\"dataframe\">\n",
       "  <thead>\n",
       "    <tr style=\"text-align: right;\">\n",
       "      <th></th>\n",
       "      <th>Bank Name</th>\n",
       "      <th>City</th>\n",
       "      <th>ST</th>\n",
       "      <th>CERT</th>\n",
       "      <th>Acquiring Institution</th>\n",
       "      <th>Closing Date</th>\n",
       "      <th>Updated Date</th>\n",
       "    </tr>\n",
       "  </thead>\n",
       "  <tbody>\n",
       "    <tr>\n",
       "      <th>0</th>\n",
       "      <td>Allied Bank</td>\n",
       "      <td>Mulberry</td>\n",
       "      <td>AR</td>\n",
       "      <td>91</td>\n",
       "      <td>Today's Bank</td>\n",
       "      <td>September 23, 2016</td>\n",
       "      <td>November 17, 2016</td>\n",
       "    </tr>\n",
       "    <tr>\n",
       "      <th>1</th>\n",
       "      <td>The Woodbury Banking Company</td>\n",
       "      <td>Woodbury</td>\n",
       "      <td>GA</td>\n",
       "      <td>11297</td>\n",
       "      <td>United Bank</td>\n",
       "      <td>August 19, 2016</td>\n",
       "      <td>November 17, 2016</td>\n",
       "    </tr>\n",
       "    <tr>\n",
       "      <th>2</th>\n",
       "      <td>First CornerStone Bank</td>\n",
       "      <td>King of Prussia</td>\n",
       "      <td>PA</td>\n",
       "      <td>35312</td>\n",
       "      <td>First-Citizens Bank &amp; Trust Company</td>\n",
       "      <td>May 6, 2016</td>\n",
       "      <td>September 6, 2016</td>\n",
       "    </tr>\n",
       "    <tr>\n",
       "      <th>3</th>\n",
       "      <td>Trust Company Bank</td>\n",
       "      <td>Memphis</td>\n",
       "      <td>TN</td>\n",
       "      <td>9956</td>\n",
       "      <td>The Bank of Fayette County</td>\n",
       "      <td>April 29, 2016</td>\n",
       "      <td>September 6, 2016</td>\n",
       "    </tr>\n",
       "    <tr>\n",
       "      <th>4</th>\n",
       "      <td>North Milwaukee State Bank</td>\n",
       "      <td>Milwaukee</td>\n",
       "      <td>WI</td>\n",
       "      <td>20364</td>\n",
       "      <td>First-Citizens Bank &amp; Trust Company</td>\n",
       "      <td>March 11, 2016</td>\n",
       "      <td>June 16, 2016</td>\n",
       "    </tr>\n",
       "  </tbody>\n",
       "</table>\n",
       "</div>"
      ],
      "text/plain": [
       "                      Bank Name             City  ST   CERT  \\\n",
       "0                   Allied Bank         Mulberry  AR     91   \n",
       "1  The Woodbury Banking Company         Woodbury  GA  11297   \n",
       "2        First CornerStone Bank  King of Prussia  PA  35312   \n",
       "3            Trust Company Bank          Memphis  TN   9956   \n",
       "4    North Milwaukee State Bank        Milwaukee  WI  20364   \n",
       "\n",
       "                 Acquiring Institution        Closing Date       Updated Date  \n",
       "0                         Today's Bank  September 23, 2016  November 17, 2016  \n",
       "1                          United Bank     August 19, 2016  November 17, 2016  \n",
       "2  First-Citizens Bank & Trust Company         May 6, 2016  September 6, 2016  \n",
       "3           The Bank of Fayette County      April 29, 2016  September 6, 2016  \n",
       "4  First-Citizens Bank & Trust Company      March 11, 2016      June 16, 2016  "
      ]
     },
     "execution_count": 12,
     "metadata": {},
     "output_type": "execute_result"
    }
   ],
   "source": [
    "failures.head()"
   ]
  },
  {
   "cell_type": "code",
   "execution_count": 13,
   "metadata": {},
   "outputs": [],
   "source": [
    "close_timestamps = pd.to_datetime(failures['Closing Date'])"
   ]
  },
  {
   "cell_type": "code",
   "execution_count": 14,
   "metadata": {},
   "outputs": [
    {
     "data": {
      "text/plain": [
       "2010    157\n",
       "2009    140\n",
       "2011     92\n",
       "2012     51\n",
       "2008     25\n",
       "2013     24\n",
       "2014     18\n",
       "2002     11\n",
       "2015      8\n",
       "2016      5\n",
       "2004      4\n",
       "2001      4\n",
       "2007      3\n",
       "2003      3\n",
       "2000      2\n",
       "Name: Closing Date, dtype: int64"
      ]
     },
     "execution_count": 14,
     "metadata": {},
     "output_type": "execute_result"
    }
   ],
   "source": [
    "close_timestamps.dt.year.value_counts()"
   ]
  },
  {
   "cell_type": "markdown",
   "metadata": {},
   "source": [
    "### 利用lxml.objectify解析XML"
   ]
  },
  {
   "cell_type": "code",
   "execution_count": 8,
   "metadata": {},
   "outputs": [
    {
     "name": "stderr",
     "output_type": "stream",
     "text": [
      "C:\\code\\Anaconda\\lib\\site-packages\\numpy\\core\\__init__.py:29: UserWarning: loaded more than 1 DLL from .libs:\n",
      "C:\\code\\Anaconda\\lib\\site-packages\\numpy\\.libs\\libopenblas.CSRRD7HKRKC3T3YXA7VY7TAZGLSWDKW6.gfortran-win_amd64.dll\n",
      "C:\\code\\Anaconda\\lib\\site-packages\\numpy\\.libs\\libopenblas.IPBC74C7KURV7CB2PKT5Z5FNR3SIBV4J.gfortran-win_amd64.dll\n",
      "  stacklevel=1)\n"
     ]
    }
   ],
   "source": [
    "import pandas as pd"
   ]
  },
  {
   "cell_type": "code",
   "execution_count": 1,
   "metadata": {},
   "outputs": [],
   "source": [
    "from lxml import objectify"
   ]
  },
  {
   "cell_type": "code",
   "execution_count": 2,
   "metadata": {},
   "outputs": [],
   "source": [
    "path = 'Performance_MNR.xml'"
   ]
  },
  {
   "cell_type": "code",
   "execution_count": 3,
   "metadata": {},
   "outputs": [],
   "source": [
    "parsed = objectify.parse(open(path))"
   ]
  },
  {
   "cell_type": "code",
   "execution_count": 4,
   "metadata": {},
   "outputs": [],
   "source": [
    "root = parsed.getroot()"
   ]
  },
  {
   "cell_type": "code",
   "execution_count": 5,
   "metadata": {},
   "outputs": [],
   "source": [
    "data = []\n",
    "skip_fields = ['PARENT_SEQ', 'INDICATOR_SEQ',\n",
    "'DESIRED_CHANGE', 'DECIMAL_PLACES']"
   ]
  },
  {
   "cell_type": "code",
   "execution_count": 6,
   "metadata": {},
   "outputs": [],
   "source": [
    "for elt in root.INDICATOR:\n",
    "    el_data = {}\n",
    "    for child in elt.getchildren():\n",
    "        if child.tag in skip_fields:\n",
    "            continue\n",
    "        el_data[child.tag] = child.pyval\n",
    "    data.append(el_data)"
   ]
  },
  {
   "cell_type": "code",
   "execution_count": 9,
   "metadata": {},
   "outputs": [],
   "source": [
    "perf = pd.DataFrame(data)"
   ]
  },
  {
   "cell_type": "code",
   "execution_count": 10,
   "metadata": {},
   "outputs": [
    {
     "data": {
      "text/html": [
       "<div>\n",
       "<style scoped>\n",
       "    .dataframe tbody tr th:only-of-type {\n",
       "        vertical-align: middle;\n",
       "    }\n",
       "\n",
       "    .dataframe tbody tr th {\n",
       "        vertical-align: top;\n",
       "    }\n",
       "\n",
       "    .dataframe thead th {\n",
       "        text-align: right;\n",
       "    }\n",
       "</style>\n",
       "<table border=\"1\" class=\"dataframe\">\n",
       "  <thead>\n",
       "    <tr style=\"text-align: right;\">\n",
       "      <th></th>\n",
       "      <th>AGENCY_NAME</th>\n",
       "      <th>CATEGORY</th>\n",
       "      <th>DESCRIPTION</th>\n",
       "      <th>FREQUENCY</th>\n",
       "      <th>INDICATOR_NAME</th>\n",
       "      <th>INDICATOR_UNIT</th>\n",
       "      <th>MONTHLY_ACTUAL</th>\n",
       "      <th>MONTHLY_TARGET</th>\n",
       "      <th>PERIOD_MONTH</th>\n",
       "      <th>PERIOD_YEAR</th>\n",
       "      <th>YTD_ACTUAL</th>\n",
       "      <th>YTD_TARGET</th>\n",
       "    </tr>\n",
       "  </thead>\n",
       "  <tbody>\n",
       "    <tr>\n",
       "      <th>0</th>\n",
       "      <td>Metro-North Railroad</td>\n",
       "      <td>Service Indicators</td>\n",
       "      <td>Percent of commuter trains that arrive at thei...</td>\n",
       "      <td>M</td>\n",
       "      <td>On-Time Performance (West of Hudson)</td>\n",
       "      <td>%</td>\n",
       "      <td>96.9</td>\n",
       "      <td>95</td>\n",
       "      <td>1</td>\n",
       "      <td>2008</td>\n",
       "      <td>96.9</td>\n",
       "      <td>95</td>\n",
       "    </tr>\n",
       "    <tr>\n",
       "      <th>1</th>\n",
       "      <td>Metro-North Railroad</td>\n",
       "      <td>Service Indicators</td>\n",
       "      <td>Percent of commuter trains that arrive at thei...</td>\n",
       "      <td>M</td>\n",
       "      <td>On-Time Performance (West of Hudson)</td>\n",
       "      <td>%</td>\n",
       "      <td>95</td>\n",
       "      <td>95</td>\n",
       "      <td>2</td>\n",
       "      <td>2008</td>\n",
       "      <td>96</td>\n",
       "      <td>95</td>\n",
       "    </tr>\n",
       "    <tr>\n",
       "      <th>2</th>\n",
       "      <td>Metro-North Railroad</td>\n",
       "      <td>Service Indicators</td>\n",
       "      <td>Percent of commuter trains that arrive at thei...</td>\n",
       "      <td>M</td>\n",
       "      <td>On-Time Performance (West of Hudson)</td>\n",
       "      <td>%</td>\n",
       "      <td>96.9</td>\n",
       "      <td>95</td>\n",
       "      <td>3</td>\n",
       "      <td>2008</td>\n",
       "      <td>96.3</td>\n",
       "      <td>95</td>\n",
       "    </tr>\n",
       "    <tr>\n",
       "      <th>3</th>\n",
       "      <td>Metro-North Railroad</td>\n",
       "      <td>Service Indicators</td>\n",
       "      <td>Percent of commuter trains that arrive at thei...</td>\n",
       "      <td>M</td>\n",
       "      <td>On-Time Performance (West of Hudson)</td>\n",
       "      <td>%</td>\n",
       "      <td>98.3</td>\n",
       "      <td>95</td>\n",
       "      <td>4</td>\n",
       "      <td>2008</td>\n",
       "      <td>96.8</td>\n",
       "      <td>95</td>\n",
       "    </tr>\n",
       "    <tr>\n",
       "      <th>4</th>\n",
       "      <td>Metro-North Railroad</td>\n",
       "      <td>Service Indicators</td>\n",
       "      <td>Percent of commuter trains that arrive at thei...</td>\n",
       "      <td>M</td>\n",
       "      <td>On-Time Performance (West of Hudson)</td>\n",
       "      <td>%</td>\n",
       "      <td>95.8</td>\n",
       "      <td>95</td>\n",
       "      <td>5</td>\n",
       "      <td>2008</td>\n",
       "      <td>96.6</td>\n",
       "      <td>95</td>\n",
       "    </tr>\n",
       "  </tbody>\n",
       "</table>\n",
       "</div>"
      ],
      "text/plain": [
       "            AGENCY_NAME            CATEGORY  \\\n",
       "0  Metro-North Railroad  Service Indicators   \n",
       "1  Metro-North Railroad  Service Indicators   \n",
       "2  Metro-North Railroad  Service Indicators   \n",
       "3  Metro-North Railroad  Service Indicators   \n",
       "4  Metro-North Railroad  Service Indicators   \n",
       "\n",
       "                                         DESCRIPTION FREQUENCY  \\\n",
       "0  Percent of commuter trains that arrive at thei...         M   \n",
       "1  Percent of commuter trains that arrive at thei...         M   \n",
       "2  Percent of commuter trains that arrive at thei...         M   \n",
       "3  Percent of commuter trains that arrive at thei...         M   \n",
       "4  Percent of commuter trains that arrive at thei...         M   \n",
       "\n",
       "                         INDICATOR_NAME INDICATOR_UNIT MONTHLY_ACTUAL  \\\n",
       "0  On-Time Performance (West of Hudson)              %           96.9   \n",
       "1  On-Time Performance (West of Hudson)              %             95   \n",
       "2  On-Time Performance (West of Hudson)              %           96.9   \n",
       "3  On-Time Performance (West of Hudson)              %           98.3   \n",
       "4  On-Time Performance (West of Hudson)              %           95.8   \n",
       "\n",
       "  MONTHLY_TARGET  PERIOD_MONTH  PERIOD_YEAR YTD_ACTUAL YTD_TARGET  \n",
       "0             95             1         2008       96.9         95  \n",
       "1             95             2         2008         96         95  \n",
       "2             95             3         2008       96.3         95  \n",
       "3             95             4         2008       96.8         95  \n",
       "4             95             5         2008       96.6         95  "
      ]
     },
     "execution_count": 10,
     "metadata": {},
     "output_type": "execute_result"
    }
   ],
   "source": [
    "perf.head()"
   ]
  },
  {
   "cell_type": "code",
   "execution_count": 11,
   "metadata": {},
   "outputs": [],
   "source": [
    "from io import StringIO"
   ]
  },
  {
   "cell_type": "code",
   "execution_count": 12,
   "metadata": {},
   "outputs": [],
   "source": [
    "tag = '<a href=\"http://www.google.com\">Google</a>'"
   ]
  },
  {
   "cell_type": "code",
   "execution_count": 13,
   "metadata": {},
   "outputs": [],
   "source": [
    "root = objectify.parse(StringIO(tag)).getroot()"
   ]
  },
  {
   "cell_type": "code",
   "execution_count": 14,
   "metadata": {},
   "outputs": [
    {
     "data": {
      "text/plain": [
       "<Element a at 0x1c4ea186d88>"
      ]
     },
     "execution_count": 14,
     "metadata": {},
     "output_type": "execute_result"
    }
   ],
   "source": [
    "root"
   ]
  },
  {
   "cell_type": "code",
   "execution_count": 17,
   "metadata": {},
   "outputs": [
    {
     "name": "stdout",
     "output_type": "stream",
     "text": [
      "http://www.google.com\n"
     ]
    }
   ],
   "source": [
    "print(root.get('href'))"
   ]
  },
  {
   "cell_type": "code",
   "execution_count": 18,
   "metadata": {},
   "outputs": [
    {
     "data": {
      "text/plain": [
       "'Google'"
      ]
     },
     "execution_count": 18,
     "metadata": {},
     "output_type": "execute_result"
    }
   ],
   "source": [
    "root.text"
   ]
  },
  {
   "cell_type": "markdown",
   "metadata": {},
   "source": [
    "## 二进制数据格式"
   ]
  },
  {
   "cell_type": "markdown",
   "metadata": {},
   "source": [
    "数据的高效二进制格式存储"
   ]
  },
  {
   "cell_type": "markdown",
   "metadata": {},
   "source": [
    "- python内置的pickle序列化\n",
    "\n",
    "- pandas对象都有一个用于将数据以pickle格式保存到磁盘上的to_pickle方法"
   ]
  },
  {
   "cell_type": "markdown",
   "metadata": {},
   "source": [
    "读取被pickle化的数据"
   ]
  },
  {
   "cell_type": "markdown",
   "metadata": {},
   "source": [
    "- 可以通过pickle直接读取被pickle化的数据\n",
    "- 使用更为方便的pandas.read_pickle"
   ]
  },
  {
   "cell_type": "markdown",
   "metadata": {},
   "source": [
    ">pickle仅建议用于短期存储格式。其原因是很难保证该格式永远是稳定的；今天pickle的对象可能无法被后续版本的库unpickle出来。"
   ]
  },
  {
   "cell_type": "markdown",
   "metadata": {},
   "source": [
    "### 使用HDF5格式"
   ]
  },
  {
   "cell_type": "markdown",
   "metadata": {},
   "source": [
    "对于那些非常大的无法直接放入内存的数据集，HDF5就是不错的选择，因为它可以高效地分块读写。"
   ]
  },
  {
   "cell_type": "markdown",
   "metadata": {},
   "source": [
    "- 可以用PyTables或h5py库直接访问HDF5文件\n",
    "- pandas提供了更为高级的接口，可以简化存储Series和DataFrame对象。HDFStore类可以像字典一样，处理低级的细节"
   ]
  },
  {
   "cell_type": "markdown",
   "metadata": {},
   "source": [
    "HDFStore支持两种存储模式，'fixed'和'table' 可以在put方法中通过format参数指定"
   ]
  },
  {
   "cell_type": "markdown",
   "metadata": {},
   "source": [
    "后者通常会更慢，但是支持使用特殊语法进行查询操作，如select"
   ]
  },
  {
   "cell_type": "markdown",
   "metadata": {},
   "source": [
    "pandas.read_hdf函数对put, select等方法做了高层封装"
   ]
  },
  {
   "cell_type": "markdown",
   "metadata": {},
   "source": [
    "### 读取Microsoft Excel文件"
   ]
  },
  {
   "cell_type": "markdown",
   "metadata": {},
   "source": [
    "pandas的ExcelFile类或pandas.read_excel函数支持读取存储在Excel 2003（或更高版本）中的表格型数据"
   ]
  },
  {
   "cell_type": "markdown",
   "metadata": {},
   "source": [
    "读取"
   ]
  },
  {
   "cell_type": "markdown",
   "metadata": {},
   "source": [
    "- 要使用ExcelFile，通过传递xls或xlsx路径创建一个实例 pd.ExcelFile\n",
    "- 存储在表单中的数据可以read_excel读取到DataFrame，在参数中指定表单名"
   ]
  },
  {
   "cell_type": "markdown",
   "metadata": {},
   "source": [
    "写入"
   ]
  },
  {
   "cell_type": "markdown",
   "metadata": {},
   "source": [
    "- 首先创建一个ExcelWriter\n",
    "- 用pandas对象的to_excel方法将数据写入到其中\n",
    "- writer.save()"
   ]
  },
  {
   "cell_type": "markdown",
   "metadata": {},
   "source": [
    "## Web APIs交互"
   ]
  },
  {
   "cell_type": "code",
   "execution_count": 21,
   "metadata": {},
   "outputs": [],
   "source": [
    "import requests"
   ]
  },
  {
   "cell_type": "code",
   "execution_count": 22,
   "metadata": {},
   "outputs": [],
   "source": [
    "url = 'https://api.github.com/repos/pandas-dev/pandas/issues'"
   ]
  },
  {
   "cell_type": "code",
   "execution_count": 23,
   "metadata": {},
   "outputs": [],
   "source": [
    "resp = requests.get(url)"
   ]
  },
  {
   "cell_type": "code",
   "execution_count": 25,
   "metadata": {},
   "outputs": [],
   "source": [
    "data = resp.json()"
   ]
  },
  {
   "cell_type": "code",
   "execution_count": 26,
   "metadata": {},
   "outputs": [],
   "source": [
    "issues = pd.DataFrame(data)"
   ]
  },
  {
   "cell_type": "code",
   "execution_count": 27,
   "metadata": {
    "scrolled": true
   },
   "outputs": [
    {
     "data": {
      "text/html": [
       "<div>\n",
       "<style scoped>\n",
       "    .dataframe tbody tr th:only-of-type {\n",
       "        vertical-align: middle;\n",
       "    }\n",
       "\n",
       "    .dataframe tbody tr th {\n",
       "        vertical-align: top;\n",
       "    }\n",
       "\n",
       "    .dataframe thead th {\n",
       "        text-align: right;\n",
       "    }\n",
       "</style>\n",
       "<table border=\"1\" class=\"dataframe\">\n",
       "  <thead>\n",
       "    <tr style=\"text-align: right;\">\n",
       "      <th></th>\n",
       "      <th>assignee</th>\n",
       "      <th>assignees</th>\n",
       "      <th>author_association</th>\n",
       "      <th>body</th>\n",
       "      <th>closed_at</th>\n",
       "      <th>comments</th>\n",
       "      <th>comments_url</th>\n",
       "      <th>created_at</th>\n",
       "      <th>events_url</th>\n",
       "      <th>html_url</th>\n",
       "      <th>...</th>\n",
       "      <th>milestone</th>\n",
       "      <th>node_id</th>\n",
       "      <th>number</th>\n",
       "      <th>pull_request</th>\n",
       "      <th>repository_url</th>\n",
       "      <th>state</th>\n",
       "      <th>title</th>\n",
       "      <th>updated_at</th>\n",
       "      <th>url</th>\n",
       "      <th>user</th>\n",
       "    </tr>\n",
       "  </thead>\n",
       "  <tbody>\n",
       "    <tr>\n",
       "      <th>0</th>\n",
       "      <td>None</td>\n",
       "      <td>[]</td>\n",
       "      <td>CONTRIBUTOR</td>\n",
       "      <td>xref #25866\\r\\n</td>\n",
       "      <td>None</td>\n",
       "      <td>2</td>\n",
       "      <td>https://api.github.com/repos/pandas-dev/pandas...</td>\n",
       "      <td>2019-05-16T22:52:42Z</td>\n",
       "      <td>https://api.github.com/repos/pandas-dev/pandas...</td>\n",
       "      <td>https://github.com/pandas-dev/pandas/pull/26435</td>\n",
       "      <td>...</td>\n",
       "      <td>None</td>\n",
       "      <td>MDExOlB1bGxSZXF1ZXN0Mjc5Njk2MDg4</td>\n",
       "      <td>26435</td>\n",
       "      <td>{'url': 'https://api.github.com/repos/pandas-d...</td>\n",
       "      <td>https://api.github.com/repos/pandas-dev/pandas</td>\n",
       "      <td>open</td>\n",
       "      <td>CLN: remove unused code check for pytest.raises</td>\n",
       "      <td>2019-05-16T23:34:55Z</td>\n",
       "      <td>https://api.github.com/repos/pandas-dev/pandas...</td>\n",
       "      <td>{'login': 'simonjayhawkins', 'id': 13159005, '...</td>\n",
       "    </tr>\n",
       "    <tr>\n",
       "      <th>1</th>\n",
       "      <td>None</td>\n",
       "      <td>[]</td>\n",
       "      <td>CONTRIBUTOR</td>\n",
       "      <td>xref #25725</td>\n",
       "      <td>None</td>\n",
       "      <td>2</td>\n",
       "      <td>https://api.github.com/repos/pandas-dev/pandas...</td>\n",
       "      <td>2019-05-16T21:54:56Z</td>\n",
       "      <td>https://api.github.com/repos/pandas-dev/pandas...</td>\n",
       "      <td>https://github.com/pandas-dev/pandas/pull/26434</td>\n",
       "      <td>...</td>\n",
       "      <td>None</td>\n",
       "      <td>MDExOlB1bGxSZXF1ZXN0Mjc5NjgzMzI4</td>\n",
       "      <td>26434</td>\n",
       "      <td>{'url': 'https://api.github.com/repos/pandas-d...</td>\n",
       "      <td>https://api.github.com/repos/pandas-dev/pandas</td>\n",
       "      <td>open</td>\n",
       "      <td>CLN: Remove type from (class|type) in regexes</td>\n",
       "      <td>2019-05-16T22:36:42Z</td>\n",
       "      <td>https://api.github.com/repos/pandas-dev/pandas...</td>\n",
       "      <td>{'login': 'simonjayhawkins', 'id': 13159005, '...</td>\n",
       "    </tr>\n",
       "    <tr>\n",
       "      <th>2</th>\n",
       "      <td>None</td>\n",
       "      <td>[]</td>\n",
       "      <td>CONTRIBUTOR</td>\n",
       "      <td>xref #25725</td>\n",
       "      <td>None</td>\n",
       "      <td>2</td>\n",
       "      <td>https://api.github.com/repos/pandas-dev/pandas...</td>\n",
       "      <td>2019-05-16T21:12:00Z</td>\n",
       "      <td>https://api.github.com/repos/pandas-dev/pandas...</td>\n",
       "      <td>https://github.com/pandas-dev/pandas/pull/26433</td>\n",
       "      <td>...</td>\n",
       "      <td>None</td>\n",
       "      <td>MDExOlB1bGxSZXF1ZXN0Mjc5NjcxNjEy</td>\n",
       "      <td>26433</td>\n",
       "      <td>{'url': 'https://api.github.com/repos/pandas-d...</td>\n",
       "      <td>https://api.github.com/repos/pandas-dev/pandas</td>\n",
       "      <td>open</td>\n",
       "      <td>CLN: Remove unicode u string prefix in regexes</td>\n",
       "      <td>2019-05-16T22:59:18Z</td>\n",
       "      <td>https://api.github.com/repos/pandas-dev/pandas...</td>\n",
       "      <td>{'login': 'simonjayhawkins', 'id': 13159005, '...</td>\n",
       "    </tr>\n",
       "    <tr>\n",
       "      <th>3</th>\n",
       "      <td>None</td>\n",
       "      <td>[]</td>\n",
       "      <td>CONTRIBUTOR</td>\n",
       "      <td>- [x] xref #25725\\r\\n\\r\\nRemoves use of ``__un...</td>\n",
       "      <td>None</td>\n",
       "      <td>2</td>\n",
       "      <td>https://api.github.com/repos/pandas-dev/pandas...</td>\n",
       "      <td>2019-05-16T20:01:47Z</td>\n",
       "      <td>https://api.github.com/repos/pandas-dev/pandas...</td>\n",
       "      <td>https://github.com/pandas-dev/pandas/pull/26432</td>\n",
       "      <td>...</td>\n",
       "      <td>None</td>\n",
       "      <td>MDExOlB1bGxSZXF1ZXN0Mjc5NjQ5NjU1</td>\n",
       "      <td>26432</td>\n",
       "      <td>{'url': 'https://api.github.com/repos/pandas-d...</td>\n",
       "      <td>https://api.github.com/repos/pandas-dev/pandas</td>\n",
       "      <td>open</td>\n",
       "      <td>CLN: remove __unicode__ from code base</td>\n",
       "      <td>2019-05-16T20:43:42Z</td>\n",
       "      <td>https://api.github.com/repos/pandas-dev/pandas...</td>\n",
       "      <td>{'login': 'topper-123', 'id': 26364415, 'node_...</td>\n",
       "    </tr>\n",
       "    <tr>\n",
       "      <th>4</th>\n",
       "      <td>None</td>\n",
       "      <td>[]</td>\n",
       "      <td>CONTRIBUTOR</td>\n",
       "      <td>- [ ] closes #26329\\r\\n- [ ] tests added / pas...</td>\n",
       "      <td>None</td>\n",
       "      <td>2</td>\n",
       "      <td>https://api.github.com/repos/pandas-dev/pandas...</td>\n",
       "      <td>2019-05-16T19:56:03Z</td>\n",
       "      <td>https://api.github.com/repos/pandas-dev/pandas...</td>\n",
       "      <td>https://github.com/pandas-dev/pandas/pull/26431</td>\n",
       "      <td>...</td>\n",
       "      <td>{'url': 'https://api.github.com/repos/pandas-d...</td>\n",
       "      <td>MDExOlB1bGxSZXF1ZXN0Mjc5NjQ3ODQz</td>\n",
       "      <td>26431</td>\n",
       "      <td>{'url': 'https://api.github.com/repos/pandas-d...</td>\n",
       "      <td>https://api.github.com/repos/pandas-dev/pandas</td>\n",
       "      <td>open</td>\n",
       "      <td>ERR: FutureWarning difficult to identify source</td>\n",
       "      <td>2019-05-16T21:20:31Z</td>\n",
       "      <td>https://api.github.com/repos/pandas-dev/pandas...</td>\n",
       "      <td>{'login': 'simonjayhawkins', 'id': 13159005, '...</td>\n",
       "    </tr>\n",
       "    <tr>\n",
       "      <th>5</th>\n",
       "      <td>None</td>\n",
       "      <td>[]</td>\n",
       "      <td>CONTRIBUTOR</td>\n",
       "      <td>We currently don't allow duplicate function na...</td>\n",
       "      <td>None</td>\n",
       "      <td>0</td>\n",
       "      <td>https://api.github.com/repos/pandas-dev/pandas...</td>\n",
       "      <td>2019-05-16T19:41:15Z</td>\n",
       "      <td>https://api.github.com/repos/pandas-dev/pandas...</td>\n",
       "      <td>https://github.com/pandas-dev/pandas/issues/26430</td>\n",
       "      <td>...</td>\n",
       "      <td>{'url': 'https://api.github.com/repos/pandas-d...</td>\n",
       "      <td>MDU6SXNzdWU0NDUxMjY4MDk=</td>\n",
       "      <td>26430</td>\n",
       "      <td>NaN</td>\n",
       "      <td>https://api.github.com/repos/pandas-dev/pandas</td>\n",
       "      <td>open</td>\n",
       "      <td>Accept multiple lambda in groupby list</td>\n",
       "      <td>2019-05-16T19:59:25Z</td>\n",
       "      <td>https://api.github.com/repos/pandas-dev/pandas...</td>\n",
       "      <td>{'login': 'TomAugspurger', 'id': 1312546, 'nod...</td>\n",
       "    </tr>\n",
       "    <tr>\n",
       "      <th>6</th>\n",
       "      <td>None</td>\n",
       "      <td>[]</td>\n",
       "      <td>NONE</td>\n",
       "      <td>#### Code Sample, a copy-pastable example if p...</td>\n",
       "      <td>None</td>\n",
       "      <td>5</td>\n",
       "      <td>https://api.github.com/repos/pandas-dev/pandas...</td>\n",
       "      <td>2019-05-16T18:43:08Z</td>\n",
       "      <td>https://api.github.com/repos/pandas-dev/pandas...</td>\n",
       "      <td>https://github.com/pandas-dev/pandas/issues/26429</td>\n",
       "      <td>...</td>\n",
       "      <td>None</td>\n",
       "      <td>MDU6SXNzdWU0NDUxMDQzMzA=</td>\n",
       "      <td>26429</td>\n",
       "      <td>NaN</td>\n",
       "      <td>https://api.github.com/repos/pandas-dev/pandas</td>\n",
       "      <td>open</td>\n",
       "      <td>bad arguments to dataframe constructor causes ...</td>\n",
       "      <td>2019-05-16T23:54:58Z</td>\n",
       "      <td>https://api.github.com/repos/pandas-dev/pandas...</td>\n",
       "      <td>{'login': 'kurtbrose', 'id': 543934, 'node_id'...</td>\n",
       "    </tr>\n",
       "    <tr>\n",
       "      <th>7</th>\n",
       "      <td>None</td>\n",
       "      <td>[]</td>\n",
       "      <td>MEMBER</td>\n",
       "      <td>From a discussion in https://github.com/pandas...</td>\n",
       "      <td>None</td>\n",
       "      <td>1</td>\n",
       "      <td>https://api.github.com/repos/pandas-dev/pandas...</td>\n",
       "      <td>2019-05-16T13:16:43Z</td>\n",
       "      <td>https://api.github.com/repos/pandas-dev/pandas...</td>\n",
       "      <td>https://github.com/pandas-dev/pandas/issues/26428</td>\n",
       "      <td>...</td>\n",
       "      <td>None</td>\n",
       "      <td>MDU6SXNzdWU0NDQ5NTA0NTU=</td>\n",
       "      <td>26428</td>\n",
       "      <td>NaN</td>\n",
       "      <td>https://api.github.com/repos/pandas-dev/pandas</td>\n",
       "      <td>open</td>\n",
       "      <td>CI: how to ensure certain tests have been run</td>\n",
       "      <td>2019-05-16T13:26:36Z</td>\n",
       "      <td>https://api.github.com/repos/pandas-dev/pandas...</td>\n",
       "      <td>{'login': 'jorisvandenbossche', 'id': 1020496,...</td>\n",
       "    </tr>\n",
       "    <tr>\n",
       "      <th>8</th>\n",
       "      <td>None</td>\n",
       "      <td>[]</td>\n",
       "      <td>NONE</td>\n",
       "      <td>#### Code Sample, a copy-pastable example if p...</td>\n",
       "      <td>None</td>\n",
       "      <td>1</td>\n",
       "      <td>https://api.github.com/repos/pandas-dev/pandas...</td>\n",
       "      <td>2019-05-16T12:50:54Z</td>\n",
       "      <td>https://api.github.com/repos/pandas-dev/pandas...</td>\n",
       "      <td>https://github.com/pandas-dev/pandas/issues/26427</td>\n",
       "      <td>...</td>\n",
       "      <td>None</td>\n",
       "      <td>MDU6SXNzdWU0NDQ5Mzc0ODk=</td>\n",
       "      <td>26427</td>\n",
       "      <td>NaN</td>\n",
       "      <td>https://api.github.com/repos/pandas-dev/pandas</td>\n",
       "      <td>open</td>\n",
       "      <td>BUG: field in Series produced by DataFrame.ite...</td>\n",
       "      <td>2019-05-16T16:15:00Z</td>\n",
       "      <td>https://api.github.com/repos/pandas-dev/pandas...</td>\n",
       "      <td>{'login': 'AntonPotapchuk', 'id': 26774675, 'n...</td>\n",
       "    </tr>\n",
       "    <tr>\n",
       "      <th>9</th>\n",
       "      <td>None</td>\n",
       "      <td>[]</td>\n",
       "      <td>NONE</td>\n",
       "      <td>- [ ] closes #xxxx\\r\\n- [ ] tests added / pass...</td>\n",
       "      <td>None</td>\n",
       "      <td>2</td>\n",
       "      <td>https://api.github.com/repos/pandas-dev/pandas...</td>\n",
       "      <td>2019-05-16T11:50:44Z</td>\n",
       "      <td>https://api.github.com/repos/pandas-dev/pandas...</td>\n",
       "      <td>https://github.com/pandas-dev/pandas/pull/26426</td>\n",
       "      <td>...</td>\n",
       "      <td>None</td>\n",
       "      <td>MDExOlB1bGxSZXF1ZXN0Mjc5NDcwNjcy</td>\n",
       "      <td>26426</td>\n",
       "      <td>{'url': 'https://api.github.com/repos/pandas-d...</td>\n",
       "      <td>https://api.github.com/repos/pandas-dev/pandas</td>\n",
       "      <td>open</td>\n",
       "      <td>BUG: fix calling local references with keyword...</td>\n",
       "      <td>2019-05-16T13:24:49Z</td>\n",
       "      <td>https://api.github.com/repos/pandas-dev/pandas...</td>\n",
       "      <td>{'login': 'danielhrisca', 'id': 20952040, 'nod...</td>\n",
       "    </tr>\n",
       "    <tr>\n",
       "      <th>10</th>\n",
       "      <td>None</td>\n",
       "      <td>[]</td>\n",
       "      <td>CONTRIBUTOR</td>\n",
       "      <td>- [x] closes #26424\\r\\n- [ ] tests added / pas...</td>\n",
       "      <td>None</td>\n",
       "      <td>4</td>\n",
       "      <td>https://api.github.com/repos/pandas-dev/pandas...</td>\n",
       "      <td>2019-05-16T09:31:28Z</td>\n",
       "      <td>https://api.github.com/repos/pandas-dev/pandas...</td>\n",
       "      <td>https://github.com/pandas-dev/pandas/pull/26425</td>\n",
       "      <td>...</td>\n",
       "      <td>None</td>\n",
       "      <td>MDExOlB1bGxSZXF1ZXN0Mjc5NDIxNzY1</td>\n",
       "      <td>26425</td>\n",
       "      <td>{'url': 'https://api.github.com/repos/pandas-d...</td>\n",
       "      <td>https://api.github.com/repos/pandas-dev/pandas</td>\n",
       "      <td>open</td>\n",
       "      <td>DOC: ecosystem.rst: Koalas</td>\n",
       "      <td>2019-05-17T02:16:03Z</td>\n",
       "      <td>https://api.github.com/repos/pandas-dev/pandas...</td>\n",
       "      <td>{'login': 'HyukjinKwon', 'id': 6477701, 'node_...</td>\n",
       "    </tr>\n",
       "    <tr>\n",
       "      <th>11</th>\n",
       "      <td>None</td>\n",
       "      <td>[]</td>\n",
       "      <td>CONTRIBUTOR</td>\n",
       "      <td>#### Code Sample, a copy-pastable example if p...</td>\n",
       "      <td>None</td>\n",
       "      <td>0</td>\n",
       "      <td>https://api.github.com/repos/pandas-dev/pandas...</td>\n",
       "      <td>2019-05-16T09:24:10Z</td>\n",
       "      <td>https://api.github.com/repos/pandas-dev/pandas...</td>\n",
       "      <td>https://github.com/pandas-dev/pandas/issues/26424</td>\n",
       "      <td>...</td>\n",
       "      <td>None</td>\n",
       "      <td>MDU6SXNzdWU0NDQ4NDY5NTE=</td>\n",
       "      <td>26424</td>\n",
       "      <td>NaN</td>\n",
       "      <td>https://api.github.com/repos/pandas-dev/pandas</td>\n",
       "      <td>open</td>\n",
       "      <td>Add Koalas project in pandas Ecosystem</td>\n",
       "      <td>2019-05-16T09:24:10Z</td>\n",
       "      <td>https://api.github.com/repos/pandas-dev/pandas...</td>\n",
       "      <td>{'login': 'HyukjinKwon', 'id': 6477701, 'node_...</td>\n",
       "    </tr>\n",
       "    <tr>\n",
       "      <th>12</th>\n",
       "      <td>None</td>\n",
       "      <td>[]</td>\n",
       "      <td>NONE</td>\n",
       "      <td>Correct ``adjust=True`` to ``adjust=False`` in...</td>\n",
       "      <td>None</td>\n",
       "      <td>2</td>\n",
       "      <td>https://api.github.com/repos/pandas-dev/pandas...</td>\n",
       "      <td>2019-05-16T08:44:48Z</td>\n",
       "      <td>https://api.github.com/repos/pandas-dev/pandas...</td>\n",
       "      <td>https://github.com/pandas-dev/pandas/pull/26422</td>\n",
       "      <td>...</td>\n",
       "      <td>None</td>\n",
       "      <td>MDExOlB1bGxSZXF1ZXN0Mjc5NDA0MzU4</td>\n",
       "      <td>26422</td>\n",
       "      <td>{'url': 'https://api.github.com/repos/pandas-d...</td>\n",
       "      <td>https://api.github.com/repos/pandas-dev/pandas</td>\n",
       "      <td>open</td>\n",
       "      <td>Correction (and clarification) to EWMA doc</td>\n",
       "      <td>2019-05-16T14:44:56Z</td>\n",
       "      <td>https://api.github.com/repos/pandas-dev/pandas...</td>\n",
       "      <td>{'login': 'jamesoliverh', 'id': 46758370, 'nod...</td>\n",
       "    </tr>\n",
       "    <tr>\n",
       "      <th>13</th>\n",
       "      <td>None</td>\n",
       "      <td>[]</td>\n",
       "      <td>MEMBER</td>\n",
       "      <td>Having a `.values` attribute on SparseArray is...</td>\n",
       "      <td>None</td>\n",
       "      <td>4</td>\n",
       "      <td>https://api.github.com/repos/pandas-dev/pandas...</td>\n",
       "      <td>2019-05-16T08:10:28Z</td>\n",
       "      <td>https://api.github.com/repos/pandas-dev/pandas...</td>\n",
       "      <td>https://github.com/pandas-dev/pandas/pull/26421</td>\n",
       "      <td>...</td>\n",
       "      <td>{'url': 'https://api.github.com/repos/pandas-d...</td>\n",
       "      <td>MDExOlB1bGxSZXF1ZXN0Mjc5MzkyNDk5</td>\n",
       "      <td>26421</td>\n",
       "      <td>{'url': 'https://api.github.com/repos/pandas-d...</td>\n",
       "      <td>https://api.github.com/repos/pandas-dev/pandas</td>\n",
       "      <td>open</td>\n",
       "      <td>DEPR: deprecate SparseArray.values</td>\n",
       "      <td>2019-05-16T20:21:56Z</td>\n",
       "      <td>https://api.github.com/repos/pandas-dev/pandas...</td>\n",
       "      <td>{'login': 'jorisvandenbossche', 'id': 1020496,...</td>\n",
       "    </tr>\n",
       "    <tr>\n",
       "      <th>14</th>\n",
       "      <td>None</td>\n",
       "      <td>[]</td>\n",
       "      <td>MEMBER</td>\n",
       "      <td>Not fully complete but got started on these on...</td>\n",
       "      <td>None</td>\n",
       "      <td>1</td>\n",
       "      <td>https://api.github.com/repos/pandas-dev/pandas...</td>\n",
       "      <td>2019-05-16T04:09:09Z</td>\n",
       "      <td>https://api.github.com/repos/pandas-dev/pandas...</td>\n",
       "      <td>https://github.com/pandas-dev/pandas/pull/26420</td>\n",
       "      <td>...</td>\n",
       "      <td>None</td>\n",
       "      <td>MDExOlB1bGxSZXF1ZXN0Mjc5MzM5Nzc1</td>\n",
       "      <td>26420</td>\n",
       "      <td>{'url': 'https://api.github.com/repos/pandas-d...</td>\n",
       "      <td>https://api.github.com/repos/pandas-dev/pandas</td>\n",
       "      <td>open</td>\n",
       "      <td>Add Annotations to GroupBy</td>\n",
       "      <td>2019-05-16T23:05:05Z</td>\n",
       "      <td>https://api.github.com/repos/pandas-dev/pandas...</td>\n",
       "      <td>{'login': 'WillAyd', 'id': 609873, 'node_id': ...</td>\n",
       "    </tr>\n",
       "    <tr>\n",
       "      <th>15</th>\n",
       "      <td>None</td>\n",
       "      <td>[]</td>\n",
       "      <td>MEMBER</td>\n",
       "      <td>- [X] closes #26385\\r\\n- [X] tests added / pas...</td>\n",
       "      <td>None</td>\n",
       "      <td>3</td>\n",
       "      <td>https://api.github.com/repos/pandas-dev/pandas...</td>\n",
       "      <td>2019-05-16T00:51:52Z</td>\n",
       "      <td>https://api.github.com/repos/pandas-dev/pandas...</td>\n",
       "      <td>https://github.com/pandas-dev/pandas/pull/26419</td>\n",
       "      <td>...</td>\n",
       "      <td>None</td>\n",
       "      <td>MDExOlB1bGxSZXF1ZXN0Mjc5MzExMTYy</td>\n",
       "      <td>26419</td>\n",
       "      <td>{'url': 'https://api.github.com/repos/pandas-d...</td>\n",
       "      <td>https://api.github.com/repos/pandas-dev/pandas</td>\n",
       "      <td>open</td>\n",
       "      <td>Fix GroupBy nth Handling with Observed=False</td>\n",
       "      <td>2019-05-16T16:22:13Z</td>\n",
       "      <td>https://api.github.com/repos/pandas-dev/pandas...</td>\n",
       "      <td>{'login': 'WillAyd', 'id': 609873, 'node_id': ...</td>\n",
       "    </tr>\n",
       "    <tr>\n",
       "      <th>16</th>\n",
       "      <td>None</td>\n",
       "      <td>[]</td>\n",
       "      <td>NONE</td>\n",
       "      <td>#### Code Sample, a copy-pastable example if p...</td>\n",
       "      <td>None</td>\n",
       "      <td>4</td>\n",
       "      <td>https://api.github.com/repos/pandas-dev/pandas...</td>\n",
       "      <td>2019-05-16T00:09:24Z</td>\n",
       "      <td>https://api.github.com/repos/pandas-dev/pandas...</td>\n",
       "      <td>https://github.com/pandas-dev/pandas/issues/26418</td>\n",
       "      <td>...</td>\n",
       "      <td>None</td>\n",
       "      <td>MDU6SXNzdWU0NDQ2OTc0NzE=</td>\n",
       "      <td>26418</td>\n",
       "      <td>NaN</td>\n",
       "      <td>https://api.github.com/repos/pandas-dev/pandas</td>\n",
       "      <td>open</td>\n",
       "      <td>Inconsistent Constructor Behavior</td>\n",
       "      <td>2019-05-16T19:06:16Z</td>\n",
       "      <td>https://api.github.com/repos/pandas-dev/pandas...</td>\n",
       "      <td>{'login': 'nhartwic', 'id': 13526494, 'node_id...</td>\n",
       "    </tr>\n",
       "    <tr>\n",
       "      <th>17</th>\n",
       "      <td>None</td>\n",
       "      <td>[]</td>\n",
       "      <td>NONE</td>\n",
       "      <td>- [x] closes #26390 \\r\\n- [x] tests added / pa...</td>\n",
       "      <td>None</td>\n",
       "      <td>3</td>\n",
       "      <td>https://api.github.com/repos/pandas-dev/pandas...</td>\n",
       "      <td>2019-05-15T18:39:03Z</td>\n",
       "      <td>https://api.github.com/repos/pandas-dev/pandas...</td>\n",
       "      <td>https://github.com/pandas-dev/pandas/pull/26417</td>\n",
       "      <td>...</td>\n",
       "      <td>None</td>\n",
       "      <td>MDExOlB1bGxSZXF1ZXN0Mjc5MjE2NDg4</td>\n",
       "      <td>26417</td>\n",
       "      <td>{'url': 'https://api.github.com/repos/pandas-d...</td>\n",
       "      <td>https://api.github.com/repos/pandas-dev/pandas</td>\n",
       "      <td>open</td>\n",
       "      <td>BUG: bugfix 26390 assigning PandasArray to Dat...</td>\n",
       "      <td>2019-05-16T17:30:01Z</td>\n",
       "      <td>https://api.github.com/repos/pandas-dev/pandas...</td>\n",
       "      <td>{'login': 'shantanu-gontia', 'id': 4872525, 'n...</td>\n",
       "    </tr>\n",
       "    <tr>\n",
       "      <th>18</th>\n",
       "      <td>None</td>\n",
       "      <td>[]</td>\n",
       "      <td>MEMBER</td>\n",
       "      <td>- [X] xref #14130\\r\\n- [ ] tests added / passe...</td>\n",
       "      <td>None</td>\n",
       "      <td>9</td>\n",
       "      <td>https://api.github.com/repos/pandas-dev/pandas...</td>\n",
       "      <td>2019-05-15T16:27:40Z</td>\n",
       "      <td>https://api.github.com/repos/pandas-dev/pandas...</td>\n",
       "      <td>https://github.com/pandas-dev/pandas/pull/26414</td>\n",
       "      <td>...</td>\n",
       "      <td>None</td>\n",
       "      <td>MDExOlB1bGxSZXF1ZXN0Mjc5MTc0MDgz</td>\n",
       "      <td>26414</td>\n",
       "      <td>{'url': 'https://api.github.com/repos/pandas-d...</td>\n",
       "      <td>https://api.github.com/repos/pandas-dev/pandas</td>\n",
       "      <td>open</td>\n",
       "      <td>WIP: Split matplotlib specific code from panda...</td>\n",
       "      <td>2019-05-17T01:32:12Z</td>\n",
       "      <td>https://api.github.com/repos/pandas-dev/pandas...</td>\n",
       "      <td>{'login': 'datapythonista', 'id': 10058240, 'n...</td>\n",
       "    </tr>\n",
       "    <tr>\n",
       "      <th>19</th>\n",
       "      <td>None</td>\n",
       "      <td>[]</td>\n",
       "      <td>NONE</td>\n",
       "      <td>#### Code Sample\\r\\n\\r\\n```python\\r\\n&gt;&gt;&gt; d = p...</td>\n",
       "      <td>None</td>\n",
       "      <td>0</td>\n",
       "      <td>https://api.github.com/repos/pandas-dev/pandas...</td>\n",
       "      <td>2019-05-15T13:51:49Z</td>\n",
       "      <td>https://api.github.com/repos/pandas-dev/pandas...</td>\n",
       "      <td>https://github.com/pandas-dev/pandas/issues/26412</td>\n",
       "      <td>...</td>\n",
       "      <td>None</td>\n",
       "      <td>MDU6SXNzdWU0NDQ0NTE2MzI=</td>\n",
       "      <td>26412</td>\n",
       "      <td>NaN</td>\n",
       "      <td>https://api.github.com/repos/pandas-dev/pandas</td>\n",
       "      <td>open</td>\n",
       "      <td>Using .loc.__setitem__ with integer slices doe...</td>\n",
       "      <td>2019-05-15T13:51:49Z</td>\n",
       "      <td>https://api.github.com/repos/pandas-dev/pandas...</td>\n",
       "      <td>{'login': 'lumbric', 'id': 691772, 'node_id': ...</td>\n",
       "    </tr>\n",
       "    <tr>\n",
       "      <th>20</th>\n",
       "      <td>None</td>\n",
       "      <td>[]</td>\n",
       "      <td>NONE</td>\n",
       "      <td>#### Code Sample\\r\\n\\r\\n```python\\r\\nimport pa...</td>\n",
       "      <td>None</td>\n",
       "      <td>1</td>\n",
       "      <td>https://api.github.com/repos/pandas-dev/pandas...</td>\n",
       "      <td>2019-05-15T11:13:04Z</td>\n",
       "      <td>https://api.github.com/repos/pandas-dev/pandas...</td>\n",
       "      <td>https://github.com/pandas-dev/pandas/issues/26411</td>\n",
       "      <td>...</td>\n",
       "      <td>{'url': 'https://api.github.com/repos/pandas-d...</td>\n",
       "      <td>MDU6SXNzdWU0NDQzNzg1ODc=</td>\n",
       "      <td>26411</td>\n",
       "      <td>NaN</td>\n",
       "      <td>https://api.github.com/repos/pandas-dev/pandas</td>\n",
       "      <td>open</td>\n",
       "      <td>Grouping, then resampling empty DataFrame lead...</td>\n",
       "      <td>2019-05-15T20:32:01Z</td>\n",
       "      <td>https://api.github.com/repos/pandas-dev/pandas...</td>\n",
       "      <td>{'login': 'andrej', 'id': 557998, 'node_id': '...</td>\n",
       "    </tr>\n",
       "    <tr>\n",
       "      <th>21</th>\n",
       "      <td>None</td>\n",
       "      <td>[]</td>\n",
       "      <td>MEMBER</td>\n",
       "      <td>Assume we have a Categorical, and want to conv...</td>\n",
       "      <td>None</td>\n",
       "      <td>0</td>\n",
       "      <td>https://api.github.com/repos/pandas-dev/pandas...</td>\n",
       "      <td>2019-05-15T10:43:54Z</td>\n",
       "      <td>https://api.github.com/repos/pandas-dev/pandas...</td>\n",
       "      <td>https://github.com/pandas-dev/pandas/issues/26410</td>\n",
       "      <td>...</td>\n",
       "      <td>None</td>\n",
       "      <td>MDU6SXNzdWU0NDQzNjY2MzU=</td>\n",
       "      <td>26410</td>\n",
       "      <td>NaN</td>\n",
       "      <td>https://api.github.com/repos/pandas-dev/pandas</td>\n",
       "      <td>open</td>\n",
       "      <td>API: getting the \"densified\" values of a Categ...</td>\n",
       "      <td>2019-05-15T10:44:49Z</td>\n",
       "      <td>https://api.github.com/repos/pandas-dev/pandas...</td>\n",
       "      <td>{'login': 'jorisvandenbossche', 'id': 1020496,...</td>\n",
       "    </tr>\n",
       "    <tr>\n",
       "      <th>22</th>\n",
       "      <td>None</td>\n",
       "      <td>[]</td>\n",
       "      <td>MEMBER</td>\n",
       "      <td>Closes https://github.com/pandas-dev/pandas/is...</td>\n",
       "      <td>None</td>\n",
       "      <td>7</td>\n",
       "      <td>https://api.github.com/repos/pandas-dev/pandas...</td>\n",
       "      <td>2019-05-15T10:25:55Z</td>\n",
       "      <td>https://api.github.com/repos/pandas-dev/pandas...</td>\n",
       "      <td>https://github.com/pandas-dev/pandas/pull/26409</td>\n",
       "      <td>...</td>\n",
       "      <td>None</td>\n",
       "      <td>MDExOlB1bGxSZXF1ZXN0Mjc5MDMzMTk4</td>\n",
       "      <td>26409</td>\n",
       "      <td>{'url': 'https://api.github.com/repos/pandas-d...</td>\n",
       "      <td>https://api.github.com/repos/pandas-dev/pandas</td>\n",
       "      <td>open</td>\n",
       "      <td>DEPR: deprecate get_values</td>\n",
       "      <td>2019-05-16T00:25:08Z</td>\n",
       "      <td>https://api.github.com/repos/pandas-dev/pandas...</td>\n",
       "      <td>{'login': 'jorisvandenbossche', 'id': 1020496,...</td>\n",
       "    </tr>\n",
       "    <tr>\n",
       "      <th>23</th>\n",
       "      <td>None</td>\n",
       "      <td>[]</td>\n",
       "      <td>NONE</td>\n",
       "      <td>- [x] closes #19387\\r\\n- [x] tests added / pas...</td>\n",
       "      <td>None</td>\n",
       "      <td>4</td>\n",
       "      <td>https://api.github.com/repos/pandas-dev/pandas...</td>\n",
       "      <td>2019-05-15T09:56:17Z</td>\n",
       "      <td>https://api.github.com/repos/pandas-dev/pandas...</td>\n",
       "      <td>https://github.com/pandas-dev/pandas/pull/26408</td>\n",
       "      <td>...</td>\n",
       "      <td>None</td>\n",
       "      <td>MDExOlB1bGxSZXF1ZXN0Mjc5MDIxODk0</td>\n",
       "      <td>26408</td>\n",
       "      <td>{'url': 'https://api.github.com/repos/pandas-d...</td>\n",
       "      <td>https://api.github.com/repos/pandas-dev/pandas</td>\n",
       "      <td>open</td>\n",
       "      <td>BUG: MultiIndex not dropping nan level and inv...</td>\n",
       "      <td>2019-05-17T03:44:23Z</td>\n",
       "      <td>https://api.github.com/repos/pandas-dev/pandas...</td>\n",
       "      <td>{'login': 'jiangyue12392', 'id': 35633013, 'no...</td>\n",
       "    </tr>\n",
       "    <tr>\n",
       "      <th>24</th>\n",
       "      <td>None</td>\n",
       "      <td>[]</td>\n",
       "      <td>MEMBER</td>\n",
       "      <td>You can create an SparseDtype with a Extension...</td>\n",
       "      <td>None</td>\n",
       "      <td>2</td>\n",
       "      <td>https://api.github.com/repos/pandas-dev/pandas...</td>\n",
       "      <td>2019-05-15T09:29:00Z</td>\n",
       "      <td>https://api.github.com/repos/pandas-dev/pandas...</td>\n",
       "      <td>https://github.com/pandas-dev/pandas/issues/26407</td>\n",
       "      <td>...</td>\n",
       "      <td>None</td>\n",
       "      <td>MDU6SXNzdWU0NDQzMzE0MzI=</td>\n",
       "      <td>26407</td>\n",
       "      <td>NaN</td>\n",
       "      <td>https://api.github.com/repos/pandas-dev/pandas</td>\n",
       "      <td>open</td>\n",
       "      <td>SparseArrays backed by other Extension array/d...</td>\n",
       "      <td>2019-05-16T09:06:50Z</td>\n",
       "      <td>https://api.github.com/repos/pandas-dev/pandas...</td>\n",
       "      <td>{'login': 'jorisvandenbossche', 'id': 1020496,...</td>\n",
       "    </tr>\n",
       "    <tr>\n",
       "      <th>25</th>\n",
       "      <td>None</td>\n",
       "      <td>[]</td>\n",
       "      <td>MEMBER</td>\n",
       "      <td>```\\r\\nIn [1]: s = pd.Series(pd.Categorical(pd...</td>\n",
       "      <td>None</td>\n",
       "      <td>1</td>\n",
       "      <td>https://api.github.com/repos/pandas-dev/pandas...</td>\n",
       "      <td>2019-05-15T08:21:12Z</td>\n",
       "      <td>https://api.github.com/repos/pandas-dev/pandas...</td>\n",
       "      <td>https://github.com/pandas-dev/pandas/issues/26406</td>\n",
       "      <td>...</td>\n",
       "      <td>{'url': 'https://api.github.com/repos/pandas-d...</td>\n",
       "      <td>MDU6SXNzdWU0NDQzMDAzODA=</td>\n",
       "      <td>26406</td>\n",
       "      <td>NaN</td>\n",
       "      <td>https://api.github.com/repos/pandas-dev/pandas</td>\n",
       "      <td>open</td>\n",
       "      <td>BUG: to_numpy on categorical data with tz awar...</td>\n",
       "      <td>2019-05-15T13:45:09Z</td>\n",
       "      <td>https://api.github.com/repos/pandas-dev/pandas...</td>\n",
       "      <td>{'login': 'jorisvandenbossche', 'id': 1020496,...</td>\n",
       "    </tr>\n",
       "    <tr>\n",
       "      <th>26</th>\n",
       "      <td>None</td>\n",
       "      <td>[]</td>\n",
       "      <td>CONTRIBUTOR</td>\n",
       "      <td>- [x] closes #26366 \\r\\n- [ ] tests passed\\r\\n...</td>\n",
       "      <td>None</td>\n",
       "      <td>3</td>\n",
       "      <td>https://api.github.com/repos/pandas-dev/pandas...</td>\n",
       "      <td>2019-05-15T06:53:47Z</td>\n",
       "      <td>https://api.github.com/repos/pandas-dev/pandas...</td>\n",
       "      <td>https://github.com/pandas-dev/pandas/pull/26404</td>\n",
       "      <td>...</td>\n",
       "      <td>None</td>\n",
       "      <td>MDExOlB1bGxSZXF1ZXN0Mjc4OTYwMzg5</td>\n",
       "      <td>26404</td>\n",
       "      <td>{'url': 'https://api.github.com/repos/pandas-d...</td>\n",
       "      <td>https://api.github.com/repos/pandas-dev/pandas</td>\n",
       "      <td>open</td>\n",
       "      <td>Fix type annotations in pandas.core.indexes.da...</td>\n",
       "      <td>2019-05-16T12:55:28Z</td>\n",
       "      <td>https://api.github.com/repos/pandas-dev/pandas...</td>\n",
       "      <td>{'login': 'vaibhavhrt', 'id': 22582828, 'node_...</td>\n",
       "    </tr>\n",
       "    <tr>\n",
       "      <th>27</th>\n",
       "      <td>None</td>\n",
       "      <td>[]</td>\n",
       "      <td>MEMBER</td>\n",
       "      <td>- [X] closes #26336\\r\\n- [X] tests added / pas...</td>\n",
       "      <td>None</td>\n",
       "      <td>4</td>\n",
       "      <td>https://api.github.com/repos/pandas-dev/pandas...</td>\n",
       "      <td>2019-05-15T06:27:48Z</td>\n",
       "      <td>https://api.github.com/repos/pandas-dev/pandas...</td>\n",
       "      <td>https://github.com/pandas-dev/pandas/pull/26403</td>\n",
       "      <td>...</td>\n",
       "      <td>{'url': 'https://api.github.com/repos/pandas-d...</td>\n",
       "      <td>MDExOlB1bGxSZXF1ZXN0Mjc4OTUzODU5</td>\n",
       "      <td>26403</td>\n",
       "      <td>{'url': 'https://api.github.com/repos/pandas-d...</td>\n",
       "      <td>https://api.github.com/repos/pandas-dev/pandas</td>\n",
       "      <td>open</td>\n",
       "      <td>DEPR: Deprecate ordered=None for CategoricalDtype</td>\n",
       "      <td>2019-05-15T14:02:27Z</td>\n",
       "      <td>https://api.github.com/repos/pandas-dev/pandas...</td>\n",
       "      <td>{'login': 'jschendel', 'id': 5332445, 'node_id...</td>\n",
       "    </tr>\n",
       "    <tr>\n",
       "      <th>28</th>\n",
       "      <td>None</td>\n",
       "      <td>[]</td>\n",
       "      <td>NONE</td>\n",
       "      <td>- [x] closes #15481\\r\\n- [x] tests added / pas...</td>\n",
       "      <td>None</td>\n",
       "      <td>3</td>\n",
       "      <td>https://api.github.com/repos/pandas-dev/pandas...</td>\n",
       "      <td>2019-05-15T04:57:28Z</td>\n",
       "      <td>https://api.github.com/repos/pandas-dev/pandas...</td>\n",
       "      <td>https://github.com/pandas-dev/pandas/pull/26400</td>\n",
       "      <td>...</td>\n",
       "      <td>None</td>\n",
       "      <td>MDExOlB1bGxSZXF1ZXN0Mjc4OTM2ODE4</td>\n",
       "      <td>26400</td>\n",
       "      <td>{'url': 'https://api.github.com/repos/pandas-d...</td>\n",
       "      <td>https://api.github.com/repos/pandas-dev/pandas</td>\n",
       "      <td>open</td>\n",
       "      <td>ENH: Support multiple opening hours intervals ...</td>\n",
       "      <td>2019-05-15T07:50:52Z</td>\n",
       "      <td>https://api.github.com/repos/pandas-dev/pandas...</td>\n",
       "      <td>{'login': 'howsiwei', 'id': 3800802, 'node_id'...</td>\n",
       "    </tr>\n",
       "    <tr>\n",
       "      <th>29</th>\n",
       "      <td>None</td>\n",
       "      <td>[]</td>\n",
       "      <td>CONTRIBUTOR</td>\n",
       "      <td>This adds special support for controlling the ...</td>\n",
       "      <td>None</td>\n",
       "      <td>22</td>\n",
       "      <td>https://api.github.com/repos/pandas-dev/pandas...</td>\n",
       "      <td>2019-05-15T03:39:08Z</td>\n",
       "      <td>https://api.github.com/repos/pandas-dev/pandas...</td>\n",
       "      <td>https://github.com/pandas-dev/pandas/pull/26399</td>\n",
       "      <td>...</td>\n",
       "      <td>{'url': 'https://api.github.com/repos/pandas-d...</td>\n",
       "      <td>MDExOlB1bGxSZXF1ZXN0Mjc4OTI0OTc2</td>\n",
       "      <td>26399</td>\n",
       "      <td>{'url': 'https://api.github.com/repos/pandas-d...</td>\n",
       "      <td>https://api.github.com/repos/pandas-dev/pandas</td>\n",
       "      <td>open</td>\n",
       "      <td>ENH: Support nested renaming / selection</td>\n",
       "      <td>2019-05-16T20:41:17Z</td>\n",
       "      <td>https://api.github.com/repos/pandas-dev/pandas...</td>\n",
       "      <td>{'login': 'TomAugspurger', 'id': 1312546, 'nod...</td>\n",
       "    </tr>\n",
       "  </tbody>\n",
       "</table>\n",
       "<p>30 rows × 24 columns</p>\n",
       "</div>"
      ],
      "text/plain": [
       "   assignee assignees author_association  \\\n",
       "0      None        []        CONTRIBUTOR   \n",
       "1      None        []        CONTRIBUTOR   \n",
       "2      None        []        CONTRIBUTOR   \n",
       "3      None        []        CONTRIBUTOR   \n",
       "4      None        []        CONTRIBUTOR   \n",
       "5      None        []        CONTRIBUTOR   \n",
       "6      None        []               NONE   \n",
       "7      None        []             MEMBER   \n",
       "8      None        []               NONE   \n",
       "9      None        []               NONE   \n",
       "10     None        []        CONTRIBUTOR   \n",
       "11     None        []        CONTRIBUTOR   \n",
       "12     None        []               NONE   \n",
       "13     None        []             MEMBER   \n",
       "14     None        []             MEMBER   \n",
       "15     None        []             MEMBER   \n",
       "16     None        []               NONE   \n",
       "17     None        []               NONE   \n",
       "18     None        []             MEMBER   \n",
       "19     None        []               NONE   \n",
       "20     None        []               NONE   \n",
       "21     None        []             MEMBER   \n",
       "22     None        []             MEMBER   \n",
       "23     None        []               NONE   \n",
       "24     None        []             MEMBER   \n",
       "25     None        []             MEMBER   \n",
       "26     None        []        CONTRIBUTOR   \n",
       "27     None        []             MEMBER   \n",
       "28     None        []               NONE   \n",
       "29     None        []        CONTRIBUTOR   \n",
       "\n",
       "                                                 body closed_at  comments  \\\n",
       "0                                     xref #25866\\r\\n      None         2   \n",
       "1                                         xref #25725      None         2   \n",
       "2                                         xref #25725      None         2   \n",
       "3   - [x] xref #25725\\r\\n\\r\\nRemoves use of ``__un...      None         2   \n",
       "4   - [ ] closes #26329\\r\\n- [ ] tests added / pas...      None         2   \n",
       "5   We currently don't allow duplicate function na...      None         0   \n",
       "6   #### Code Sample, a copy-pastable example if p...      None         5   \n",
       "7   From a discussion in https://github.com/pandas...      None         1   \n",
       "8   #### Code Sample, a copy-pastable example if p...      None         1   \n",
       "9   - [ ] closes #xxxx\\r\\n- [ ] tests added / pass...      None         2   \n",
       "10  - [x] closes #26424\\r\\n- [ ] tests added / pas...      None         4   \n",
       "11  #### Code Sample, a copy-pastable example if p...      None         0   \n",
       "12  Correct ``adjust=True`` to ``adjust=False`` in...      None         2   \n",
       "13  Having a `.values` attribute on SparseArray is...      None         4   \n",
       "14  Not fully complete but got started on these on...      None         1   \n",
       "15  - [X] closes #26385\\r\\n- [X] tests added / pas...      None         3   \n",
       "16  #### Code Sample, a copy-pastable example if p...      None         4   \n",
       "17  - [x] closes #26390 \\r\\n- [x] tests added / pa...      None         3   \n",
       "18  - [X] xref #14130\\r\\n- [ ] tests added / passe...      None         9   \n",
       "19  #### Code Sample\\r\\n\\r\\n```python\\r\\n>>> d = p...      None         0   \n",
       "20  #### Code Sample\\r\\n\\r\\n```python\\r\\nimport pa...      None         1   \n",
       "21  Assume we have a Categorical, and want to conv...      None         0   \n",
       "22  Closes https://github.com/pandas-dev/pandas/is...      None         7   \n",
       "23  - [x] closes #19387\\r\\n- [x] tests added / pas...      None         4   \n",
       "24  You can create an SparseDtype with a Extension...      None         2   \n",
       "25  ```\\r\\nIn [1]: s = pd.Series(pd.Categorical(pd...      None         1   \n",
       "26  - [x] closes #26366 \\r\\n- [ ] tests passed\\r\\n...      None         3   \n",
       "27  - [X] closes #26336\\r\\n- [X] tests added / pas...      None         4   \n",
       "28  - [x] closes #15481\\r\\n- [x] tests added / pas...      None         3   \n",
       "29  This adds special support for controlling the ...      None        22   \n",
       "\n",
       "                                         comments_url            created_at  \\\n",
       "0   https://api.github.com/repos/pandas-dev/pandas...  2019-05-16T22:52:42Z   \n",
       "1   https://api.github.com/repos/pandas-dev/pandas...  2019-05-16T21:54:56Z   \n",
       "2   https://api.github.com/repos/pandas-dev/pandas...  2019-05-16T21:12:00Z   \n",
       "3   https://api.github.com/repos/pandas-dev/pandas...  2019-05-16T20:01:47Z   \n",
       "4   https://api.github.com/repos/pandas-dev/pandas...  2019-05-16T19:56:03Z   \n",
       "5   https://api.github.com/repos/pandas-dev/pandas...  2019-05-16T19:41:15Z   \n",
       "6   https://api.github.com/repos/pandas-dev/pandas...  2019-05-16T18:43:08Z   \n",
       "7   https://api.github.com/repos/pandas-dev/pandas...  2019-05-16T13:16:43Z   \n",
       "8   https://api.github.com/repos/pandas-dev/pandas...  2019-05-16T12:50:54Z   \n",
       "9   https://api.github.com/repos/pandas-dev/pandas...  2019-05-16T11:50:44Z   \n",
       "10  https://api.github.com/repos/pandas-dev/pandas...  2019-05-16T09:31:28Z   \n",
       "11  https://api.github.com/repos/pandas-dev/pandas...  2019-05-16T09:24:10Z   \n",
       "12  https://api.github.com/repos/pandas-dev/pandas...  2019-05-16T08:44:48Z   \n",
       "13  https://api.github.com/repos/pandas-dev/pandas...  2019-05-16T08:10:28Z   \n",
       "14  https://api.github.com/repos/pandas-dev/pandas...  2019-05-16T04:09:09Z   \n",
       "15  https://api.github.com/repos/pandas-dev/pandas...  2019-05-16T00:51:52Z   \n",
       "16  https://api.github.com/repos/pandas-dev/pandas...  2019-05-16T00:09:24Z   \n",
       "17  https://api.github.com/repos/pandas-dev/pandas...  2019-05-15T18:39:03Z   \n",
       "18  https://api.github.com/repos/pandas-dev/pandas...  2019-05-15T16:27:40Z   \n",
       "19  https://api.github.com/repos/pandas-dev/pandas...  2019-05-15T13:51:49Z   \n",
       "20  https://api.github.com/repos/pandas-dev/pandas...  2019-05-15T11:13:04Z   \n",
       "21  https://api.github.com/repos/pandas-dev/pandas...  2019-05-15T10:43:54Z   \n",
       "22  https://api.github.com/repos/pandas-dev/pandas...  2019-05-15T10:25:55Z   \n",
       "23  https://api.github.com/repos/pandas-dev/pandas...  2019-05-15T09:56:17Z   \n",
       "24  https://api.github.com/repos/pandas-dev/pandas...  2019-05-15T09:29:00Z   \n",
       "25  https://api.github.com/repos/pandas-dev/pandas...  2019-05-15T08:21:12Z   \n",
       "26  https://api.github.com/repos/pandas-dev/pandas...  2019-05-15T06:53:47Z   \n",
       "27  https://api.github.com/repos/pandas-dev/pandas...  2019-05-15T06:27:48Z   \n",
       "28  https://api.github.com/repos/pandas-dev/pandas...  2019-05-15T04:57:28Z   \n",
       "29  https://api.github.com/repos/pandas-dev/pandas...  2019-05-15T03:39:08Z   \n",
       "\n",
       "                                           events_url  \\\n",
       "0   https://api.github.com/repos/pandas-dev/pandas...   \n",
       "1   https://api.github.com/repos/pandas-dev/pandas...   \n",
       "2   https://api.github.com/repos/pandas-dev/pandas...   \n",
       "3   https://api.github.com/repos/pandas-dev/pandas...   \n",
       "4   https://api.github.com/repos/pandas-dev/pandas...   \n",
       "5   https://api.github.com/repos/pandas-dev/pandas...   \n",
       "6   https://api.github.com/repos/pandas-dev/pandas...   \n",
       "7   https://api.github.com/repos/pandas-dev/pandas...   \n",
       "8   https://api.github.com/repos/pandas-dev/pandas...   \n",
       "9   https://api.github.com/repos/pandas-dev/pandas...   \n",
       "10  https://api.github.com/repos/pandas-dev/pandas...   \n",
       "11  https://api.github.com/repos/pandas-dev/pandas...   \n",
       "12  https://api.github.com/repos/pandas-dev/pandas...   \n",
       "13  https://api.github.com/repos/pandas-dev/pandas...   \n",
       "14  https://api.github.com/repos/pandas-dev/pandas...   \n",
       "15  https://api.github.com/repos/pandas-dev/pandas...   \n",
       "16  https://api.github.com/repos/pandas-dev/pandas...   \n",
       "17  https://api.github.com/repos/pandas-dev/pandas...   \n",
       "18  https://api.github.com/repos/pandas-dev/pandas...   \n",
       "19  https://api.github.com/repos/pandas-dev/pandas...   \n",
       "20  https://api.github.com/repos/pandas-dev/pandas...   \n",
       "21  https://api.github.com/repos/pandas-dev/pandas...   \n",
       "22  https://api.github.com/repos/pandas-dev/pandas...   \n",
       "23  https://api.github.com/repos/pandas-dev/pandas...   \n",
       "24  https://api.github.com/repos/pandas-dev/pandas...   \n",
       "25  https://api.github.com/repos/pandas-dev/pandas...   \n",
       "26  https://api.github.com/repos/pandas-dev/pandas...   \n",
       "27  https://api.github.com/repos/pandas-dev/pandas...   \n",
       "28  https://api.github.com/repos/pandas-dev/pandas...   \n",
       "29  https://api.github.com/repos/pandas-dev/pandas...   \n",
       "\n",
       "                                             html_url  ...  \\\n",
       "0     https://github.com/pandas-dev/pandas/pull/26435  ...   \n",
       "1     https://github.com/pandas-dev/pandas/pull/26434  ...   \n",
       "2     https://github.com/pandas-dev/pandas/pull/26433  ...   \n",
       "3     https://github.com/pandas-dev/pandas/pull/26432  ...   \n",
       "4     https://github.com/pandas-dev/pandas/pull/26431  ...   \n",
       "5   https://github.com/pandas-dev/pandas/issues/26430  ...   \n",
       "6   https://github.com/pandas-dev/pandas/issues/26429  ...   \n",
       "7   https://github.com/pandas-dev/pandas/issues/26428  ...   \n",
       "8   https://github.com/pandas-dev/pandas/issues/26427  ...   \n",
       "9     https://github.com/pandas-dev/pandas/pull/26426  ...   \n",
       "10    https://github.com/pandas-dev/pandas/pull/26425  ...   \n",
       "11  https://github.com/pandas-dev/pandas/issues/26424  ...   \n",
       "12    https://github.com/pandas-dev/pandas/pull/26422  ...   \n",
       "13    https://github.com/pandas-dev/pandas/pull/26421  ...   \n",
       "14    https://github.com/pandas-dev/pandas/pull/26420  ...   \n",
       "15    https://github.com/pandas-dev/pandas/pull/26419  ...   \n",
       "16  https://github.com/pandas-dev/pandas/issues/26418  ...   \n",
       "17    https://github.com/pandas-dev/pandas/pull/26417  ...   \n",
       "18    https://github.com/pandas-dev/pandas/pull/26414  ...   \n",
       "19  https://github.com/pandas-dev/pandas/issues/26412  ...   \n",
       "20  https://github.com/pandas-dev/pandas/issues/26411  ...   \n",
       "21  https://github.com/pandas-dev/pandas/issues/26410  ...   \n",
       "22    https://github.com/pandas-dev/pandas/pull/26409  ...   \n",
       "23    https://github.com/pandas-dev/pandas/pull/26408  ...   \n",
       "24  https://github.com/pandas-dev/pandas/issues/26407  ...   \n",
       "25  https://github.com/pandas-dev/pandas/issues/26406  ...   \n",
       "26    https://github.com/pandas-dev/pandas/pull/26404  ...   \n",
       "27    https://github.com/pandas-dev/pandas/pull/26403  ...   \n",
       "28    https://github.com/pandas-dev/pandas/pull/26400  ...   \n",
       "29    https://github.com/pandas-dev/pandas/pull/26399  ...   \n",
       "\n",
       "                                            milestone  \\\n",
       "0                                                None   \n",
       "1                                                None   \n",
       "2                                                None   \n",
       "3                                                None   \n",
       "4   {'url': 'https://api.github.com/repos/pandas-d...   \n",
       "5   {'url': 'https://api.github.com/repos/pandas-d...   \n",
       "6                                                None   \n",
       "7                                                None   \n",
       "8                                                None   \n",
       "9                                                None   \n",
       "10                                               None   \n",
       "11                                               None   \n",
       "12                                               None   \n",
       "13  {'url': 'https://api.github.com/repos/pandas-d...   \n",
       "14                                               None   \n",
       "15                                               None   \n",
       "16                                               None   \n",
       "17                                               None   \n",
       "18                                               None   \n",
       "19                                               None   \n",
       "20  {'url': 'https://api.github.com/repos/pandas-d...   \n",
       "21                                               None   \n",
       "22                                               None   \n",
       "23                                               None   \n",
       "24                                               None   \n",
       "25  {'url': 'https://api.github.com/repos/pandas-d...   \n",
       "26                                               None   \n",
       "27  {'url': 'https://api.github.com/repos/pandas-d...   \n",
       "28                                               None   \n",
       "29  {'url': 'https://api.github.com/repos/pandas-d...   \n",
       "\n",
       "                             node_id number  \\\n",
       "0   MDExOlB1bGxSZXF1ZXN0Mjc5Njk2MDg4  26435   \n",
       "1   MDExOlB1bGxSZXF1ZXN0Mjc5NjgzMzI4  26434   \n",
       "2   MDExOlB1bGxSZXF1ZXN0Mjc5NjcxNjEy  26433   \n",
       "3   MDExOlB1bGxSZXF1ZXN0Mjc5NjQ5NjU1  26432   \n",
       "4   MDExOlB1bGxSZXF1ZXN0Mjc5NjQ3ODQz  26431   \n",
       "5           MDU6SXNzdWU0NDUxMjY4MDk=  26430   \n",
       "6           MDU6SXNzdWU0NDUxMDQzMzA=  26429   \n",
       "7           MDU6SXNzdWU0NDQ5NTA0NTU=  26428   \n",
       "8           MDU6SXNzdWU0NDQ5Mzc0ODk=  26427   \n",
       "9   MDExOlB1bGxSZXF1ZXN0Mjc5NDcwNjcy  26426   \n",
       "10  MDExOlB1bGxSZXF1ZXN0Mjc5NDIxNzY1  26425   \n",
       "11          MDU6SXNzdWU0NDQ4NDY5NTE=  26424   \n",
       "12  MDExOlB1bGxSZXF1ZXN0Mjc5NDA0MzU4  26422   \n",
       "13  MDExOlB1bGxSZXF1ZXN0Mjc5MzkyNDk5  26421   \n",
       "14  MDExOlB1bGxSZXF1ZXN0Mjc5MzM5Nzc1  26420   \n",
       "15  MDExOlB1bGxSZXF1ZXN0Mjc5MzExMTYy  26419   \n",
       "16          MDU6SXNzdWU0NDQ2OTc0NzE=  26418   \n",
       "17  MDExOlB1bGxSZXF1ZXN0Mjc5MjE2NDg4  26417   \n",
       "18  MDExOlB1bGxSZXF1ZXN0Mjc5MTc0MDgz  26414   \n",
       "19          MDU6SXNzdWU0NDQ0NTE2MzI=  26412   \n",
       "20          MDU6SXNzdWU0NDQzNzg1ODc=  26411   \n",
       "21          MDU6SXNzdWU0NDQzNjY2MzU=  26410   \n",
       "22  MDExOlB1bGxSZXF1ZXN0Mjc5MDMzMTk4  26409   \n",
       "23  MDExOlB1bGxSZXF1ZXN0Mjc5MDIxODk0  26408   \n",
       "24          MDU6SXNzdWU0NDQzMzE0MzI=  26407   \n",
       "25          MDU6SXNzdWU0NDQzMDAzODA=  26406   \n",
       "26  MDExOlB1bGxSZXF1ZXN0Mjc4OTYwMzg5  26404   \n",
       "27  MDExOlB1bGxSZXF1ZXN0Mjc4OTUzODU5  26403   \n",
       "28  MDExOlB1bGxSZXF1ZXN0Mjc4OTM2ODE4  26400   \n",
       "29  MDExOlB1bGxSZXF1ZXN0Mjc4OTI0OTc2  26399   \n",
       "\n",
       "                                         pull_request  \\\n",
       "0   {'url': 'https://api.github.com/repos/pandas-d...   \n",
       "1   {'url': 'https://api.github.com/repos/pandas-d...   \n",
       "2   {'url': 'https://api.github.com/repos/pandas-d...   \n",
       "3   {'url': 'https://api.github.com/repos/pandas-d...   \n",
       "4   {'url': 'https://api.github.com/repos/pandas-d...   \n",
       "5                                                 NaN   \n",
       "6                                                 NaN   \n",
       "7                                                 NaN   \n",
       "8                                                 NaN   \n",
       "9   {'url': 'https://api.github.com/repos/pandas-d...   \n",
       "10  {'url': 'https://api.github.com/repos/pandas-d...   \n",
       "11                                                NaN   \n",
       "12  {'url': 'https://api.github.com/repos/pandas-d...   \n",
       "13  {'url': 'https://api.github.com/repos/pandas-d...   \n",
       "14  {'url': 'https://api.github.com/repos/pandas-d...   \n",
       "15  {'url': 'https://api.github.com/repos/pandas-d...   \n",
       "16                                                NaN   \n",
       "17  {'url': 'https://api.github.com/repos/pandas-d...   \n",
       "18  {'url': 'https://api.github.com/repos/pandas-d...   \n",
       "19                                                NaN   \n",
       "20                                                NaN   \n",
       "21                                                NaN   \n",
       "22  {'url': 'https://api.github.com/repos/pandas-d...   \n",
       "23  {'url': 'https://api.github.com/repos/pandas-d...   \n",
       "24                                                NaN   \n",
       "25                                                NaN   \n",
       "26  {'url': 'https://api.github.com/repos/pandas-d...   \n",
       "27  {'url': 'https://api.github.com/repos/pandas-d...   \n",
       "28  {'url': 'https://api.github.com/repos/pandas-d...   \n",
       "29  {'url': 'https://api.github.com/repos/pandas-d...   \n",
       "\n",
       "                                    repository_url state  \\\n",
       "0   https://api.github.com/repos/pandas-dev/pandas  open   \n",
       "1   https://api.github.com/repos/pandas-dev/pandas  open   \n",
       "2   https://api.github.com/repos/pandas-dev/pandas  open   \n",
       "3   https://api.github.com/repos/pandas-dev/pandas  open   \n",
       "4   https://api.github.com/repos/pandas-dev/pandas  open   \n",
       "5   https://api.github.com/repos/pandas-dev/pandas  open   \n",
       "6   https://api.github.com/repos/pandas-dev/pandas  open   \n",
       "7   https://api.github.com/repos/pandas-dev/pandas  open   \n",
       "8   https://api.github.com/repos/pandas-dev/pandas  open   \n",
       "9   https://api.github.com/repos/pandas-dev/pandas  open   \n",
       "10  https://api.github.com/repos/pandas-dev/pandas  open   \n",
       "11  https://api.github.com/repos/pandas-dev/pandas  open   \n",
       "12  https://api.github.com/repos/pandas-dev/pandas  open   \n",
       "13  https://api.github.com/repos/pandas-dev/pandas  open   \n",
       "14  https://api.github.com/repos/pandas-dev/pandas  open   \n",
       "15  https://api.github.com/repos/pandas-dev/pandas  open   \n",
       "16  https://api.github.com/repos/pandas-dev/pandas  open   \n",
       "17  https://api.github.com/repos/pandas-dev/pandas  open   \n",
       "18  https://api.github.com/repos/pandas-dev/pandas  open   \n",
       "19  https://api.github.com/repos/pandas-dev/pandas  open   \n",
       "20  https://api.github.com/repos/pandas-dev/pandas  open   \n",
       "21  https://api.github.com/repos/pandas-dev/pandas  open   \n",
       "22  https://api.github.com/repos/pandas-dev/pandas  open   \n",
       "23  https://api.github.com/repos/pandas-dev/pandas  open   \n",
       "24  https://api.github.com/repos/pandas-dev/pandas  open   \n",
       "25  https://api.github.com/repos/pandas-dev/pandas  open   \n",
       "26  https://api.github.com/repos/pandas-dev/pandas  open   \n",
       "27  https://api.github.com/repos/pandas-dev/pandas  open   \n",
       "28  https://api.github.com/repos/pandas-dev/pandas  open   \n",
       "29  https://api.github.com/repos/pandas-dev/pandas  open   \n",
       "\n",
       "                                                title            updated_at  \\\n",
       "0     CLN: remove unused code check for pytest.raises  2019-05-16T23:34:55Z   \n",
       "1       CLN: Remove type from (class|type) in regexes  2019-05-16T22:36:42Z   \n",
       "2      CLN: Remove unicode u string prefix in regexes  2019-05-16T22:59:18Z   \n",
       "3              CLN: remove __unicode__ from code base  2019-05-16T20:43:42Z   \n",
       "4     ERR: FutureWarning difficult to identify source  2019-05-16T21:20:31Z   \n",
       "5              Accept multiple lambda in groupby list  2019-05-16T19:59:25Z   \n",
       "6   bad arguments to dataframe constructor causes ...  2019-05-16T23:54:58Z   \n",
       "7       CI: how to ensure certain tests have been run  2019-05-16T13:26:36Z   \n",
       "8   BUG: field in Series produced by DataFrame.ite...  2019-05-16T16:15:00Z   \n",
       "9   BUG: fix calling local references with keyword...  2019-05-16T13:24:49Z   \n",
       "10                         DOC: ecosystem.rst: Koalas  2019-05-17T02:16:03Z   \n",
       "11             Add Koalas project in pandas Ecosystem  2019-05-16T09:24:10Z   \n",
       "12         Correction (and clarification) to EWMA doc  2019-05-16T14:44:56Z   \n",
       "13                 DEPR: deprecate SparseArray.values  2019-05-16T20:21:56Z   \n",
       "14                         Add Annotations to GroupBy  2019-05-16T23:05:05Z   \n",
       "15       Fix GroupBy nth Handling with Observed=False  2019-05-16T16:22:13Z   \n",
       "16                 Inconsistent Constructor Behavior   2019-05-16T19:06:16Z   \n",
       "17  BUG: bugfix 26390 assigning PandasArray to Dat...  2019-05-16T17:30:01Z   \n",
       "18  WIP: Split matplotlib specific code from panda...  2019-05-17T01:32:12Z   \n",
       "19  Using .loc.__setitem__ with integer slices doe...  2019-05-15T13:51:49Z   \n",
       "20  Grouping, then resampling empty DataFrame lead...  2019-05-15T20:32:01Z   \n",
       "21  API: getting the \"densified\" values of a Categ...  2019-05-15T10:44:49Z   \n",
       "22                         DEPR: deprecate get_values  2019-05-16T00:25:08Z   \n",
       "23  BUG: MultiIndex not dropping nan level and inv...  2019-05-17T03:44:23Z   \n",
       "24  SparseArrays backed by other Extension array/d...  2019-05-16T09:06:50Z   \n",
       "25  BUG: to_numpy on categorical data with tz awar...  2019-05-15T13:45:09Z   \n",
       "26  Fix type annotations in pandas.core.indexes.da...  2019-05-16T12:55:28Z   \n",
       "27  DEPR: Deprecate ordered=None for CategoricalDtype  2019-05-15T14:02:27Z   \n",
       "28  ENH: Support multiple opening hours intervals ...  2019-05-15T07:50:52Z   \n",
       "29           ENH: Support nested renaming / selection  2019-05-16T20:41:17Z   \n",
       "\n",
       "                                                  url  \\\n",
       "0   https://api.github.com/repos/pandas-dev/pandas...   \n",
       "1   https://api.github.com/repos/pandas-dev/pandas...   \n",
       "2   https://api.github.com/repos/pandas-dev/pandas...   \n",
       "3   https://api.github.com/repos/pandas-dev/pandas...   \n",
       "4   https://api.github.com/repos/pandas-dev/pandas...   \n",
       "5   https://api.github.com/repos/pandas-dev/pandas...   \n",
       "6   https://api.github.com/repos/pandas-dev/pandas...   \n",
       "7   https://api.github.com/repos/pandas-dev/pandas...   \n",
       "8   https://api.github.com/repos/pandas-dev/pandas...   \n",
       "9   https://api.github.com/repos/pandas-dev/pandas...   \n",
       "10  https://api.github.com/repos/pandas-dev/pandas...   \n",
       "11  https://api.github.com/repos/pandas-dev/pandas...   \n",
       "12  https://api.github.com/repos/pandas-dev/pandas...   \n",
       "13  https://api.github.com/repos/pandas-dev/pandas...   \n",
       "14  https://api.github.com/repos/pandas-dev/pandas...   \n",
       "15  https://api.github.com/repos/pandas-dev/pandas...   \n",
       "16  https://api.github.com/repos/pandas-dev/pandas...   \n",
       "17  https://api.github.com/repos/pandas-dev/pandas...   \n",
       "18  https://api.github.com/repos/pandas-dev/pandas...   \n",
       "19  https://api.github.com/repos/pandas-dev/pandas...   \n",
       "20  https://api.github.com/repos/pandas-dev/pandas...   \n",
       "21  https://api.github.com/repos/pandas-dev/pandas...   \n",
       "22  https://api.github.com/repos/pandas-dev/pandas...   \n",
       "23  https://api.github.com/repos/pandas-dev/pandas...   \n",
       "24  https://api.github.com/repos/pandas-dev/pandas...   \n",
       "25  https://api.github.com/repos/pandas-dev/pandas...   \n",
       "26  https://api.github.com/repos/pandas-dev/pandas...   \n",
       "27  https://api.github.com/repos/pandas-dev/pandas...   \n",
       "28  https://api.github.com/repos/pandas-dev/pandas...   \n",
       "29  https://api.github.com/repos/pandas-dev/pandas...   \n",
       "\n",
       "                                                 user  \n",
       "0   {'login': 'simonjayhawkins', 'id': 13159005, '...  \n",
       "1   {'login': 'simonjayhawkins', 'id': 13159005, '...  \n",
       "2   {'login': 'simonjayhawkins', 'id': 13159005, '...  \n",
       "3   {'login': 'topper-123', 'id': 26364415, 'node_...  \n",
       "4   {'login': 'simonjayhawkins', 'id': 13159005, '...  \n",
       "5   {'login': 'TomAugspurger', 'id': 1312546, 'nod...  \n",
       "6   {'login': 'kurtbrose', 'id': 543934, 'node_id'...  \n",
       "7   {'login': 'jorisvandenbossche', 'id': 1020496,...  \n",
       "8   {'login': 'AntonPotapchuk', 'id': 26774675, 'n...  \n",
       "9   {'login': 'danielhrisca', 'id': 20952040, 'nod...  \n",
       "10  {'login': 'HyukjinKwon', 'id': 6477701, 'node_...  \n",
       "11  {'login': 'HyukjinKwon', 'id': 6477701, 'node_...  \n",
       "12  {'login': 'jamesoliverh', 'id': 46758370, 'nod...  \n",
       "13  {'login': 'jorisvandenbossche', 'id': 1020496,...  \n",
       "14  {'login': 'WillAyd', 'id': 609873, 'node_id': ...  \n",
       "15  {'login': 'WillAyd', 'id': 609873, 'node_id': ...  \n",
       "16  {'login': 'nhartwic', 'id': 13526494, 'node_id...  \n",
       "17  {'login': 'shantanu-gontia', 'id': 4872525, 'n...  \n",
       "18  {'login': 'datapythonista', 'id': 10058240, 'n...  \n",
       "19  {'login': 'lumbric', 'id': 691772, 'node_id': ...  \n",
       "20  {'login': 'andrej', 'id': 557998, 'node_id': '...  \n",
       "21  {'login': 'jorisvandenbossche', 'id': 1020496,...  \n",
       "22  {'login': 'jorisvandenbossche', 'id': 1020496,...  \n",
       "23  {'login': 'jiangyue12392', 'id': 35633013, 'no...  \n",
       "24  {'login': 'jorisvandenbossche', 'id': 1020496,...  \n",
       "25  {'login': 'jorisvandenbossche', 'id': 1020496,...  \n",
       "26  {'login': 'vaibhavhrt', 'id': 22582828, 'node_...  \n",
       "27  {'login': 'jschendel', 'id': 5332445, 'node_id...  \n",
       "28  {'login': 'howsiwei', 'id': 3800802, 'node_id'...  \n",
       "29  {'login': 'TomAugspurger', 'id': 1312546, 'nod...  \n",
       "\n",
       "[30 rows x 24 columns]"
      ]
     },
     "execution_count": 27,
     "metadata": {},
     "output_type": "execute_result"
    }
   ],
   "source": [
    "issues"
   ]
  },
  {
   "cell_type": "markdown",
   "metadata": {},
   "source": [
    "## 数据库交互"
   ]
  },
  {
   "cell_type": "code",
   "execution_count": 28,
   "metadata": {},
   "outputs": [],
   "source": [
    "import sqlite3"
   ]
  },
  {
   "cell_type": "code",
   "execution_count": 29,
   "metadata": {},
   "outputs": [],
   "source": [
    "query = \"\"\"\n",
    ".....: CREATE TABLE test\n",
    ".....: (a VARCHAR(20), b VARCHAR(20),\n",
    ".....: c REAL, d INTEGER\n",
    ".....: );\"\"\""
   ]
  },
  {
   "cell_type": "code",
   "execution_count": 30,
   "metadata": {},
   "outputs": [],
   "source": [
    "con = sqlite3.connect('mydata.sqlite')"
   ]
  },
  {
   "cell_type": "code",
   "execution_count": 31,
   "metadata": {},
   "outputs": [
    {
     "data": {
      "text/plain": [
       "<sqlite3.Cursor at 0x1c4ec8d78f0>"
      ]
     },
     "execution_count": 31,
     "metadata": {},
     "output_type": "execute_result"
    }
   ],
   "source": [
    "con.execute(query)"
   ]
  },
  {
   "cell_type": "code",
   "execution_count": 32,
   "metadata": {},
   "outputs": [],
   "source": [
    "con.commit()"
   ]
  },
  {
   "cell_type": "code",
   "execution_count": 33,
   "metadata": {},
   "outputs": [],
   "source": [
    "data = [('Atlanta', 'Georgia', 1.25, 6),\n",
    ".....: ('Tallahassee', 'Florida', 2.6, 3),\n",
    ".....: ('Sacramento', 'California', 1.7, 5)]"
   ]
  },
  {
   "cell_type": "code",
   "execution_count": 34,
   "metadata": {},
   "outputs": [],
   "source": [
    "stmt = \"INSERT INTO test VALUES(?, ?, ?, ?)\""
   ]
  },
  {
   "cell_type": "code",
   "execution_count": 35,
   "metadata": {},
   "outputs": [
    {
     "data": {
      "text/plain": [
       "<sqlite3.Cursor at 0x1c4ec8d7880>"
      ]
     },
     "execution_count": 35,
     "metadata": {},
     "output_type": "execute_result"
    }
   ],
   "source": [
    "con.executemany(stmt, data)"
   ]
  },
  {
   "cell_type": "code",
   "execution_count": 36,
   "metadata": {},
   "outputs": [],
   "source": [
    "cursor = con.execute('select * from test')"
   ]
  },
  {
   "cell_type": "code",
   "execution_count": 37,
   "metadata": {},
   "outputs": [],
   "source": [
    "rows = cursor.fetchall()"
   ]
  },
  {
   "cell_type": "code",
   "execution_count": 38,
   "metadata": {},
   "outputs": [
    {
     "data": {
      "text/plain": [
       "[('Atlanta', 'Georgia', 1.25, 6),\n",
       " ('Tallahassee', 'Florida', 2.6, 3),\n",
       " ('Sacramento', 'California', 1.7, 5)]"
      ]
     },
     "execution_count": 38,
     "metadata": {},
     "output_type": "execute_result"
    }
   ],
   "source": [
    "rows"
   ]
  },
  {
   "cell_type": "code",
   "execution_count": 39,
   "metadata": {},
   "outputs": [
    {
     "data": {
      "text/plain": [
       "(('a', None, None, None, None, None, None),\n",
       " ('b', None, None, None, None, None, None),\n",
       " ('c', None, None, None, None, None, None),\n",
       " ('d', None, None, None, None, None, None))"
      ]
     },
     "execution_count": 39,
     "metadata": {},
     "output_type": "execute_result"
    }
   ],
   "source": [
    "cursor.description"
   ]
  },
  {
   "cell_type": "code",
   "execution_count": 40,
   "metadata": {},
   "outputs": [
    {
     "data": {
      "text/html": [
       "<div>\n",
       "<style scoped>\n",
       "    .dataframe tbody tr th:only-of-type {\n",
       "        vertical-align: middle;\n",
       "    }\n",
       "\n",
       "    .dataframe tbody tr th {\n",
       "        vertical-align: top;\n",
       "    }\n",
       "\n",
       "    .dataframe thead th {\n",
       "        text-align: right;\n",
       "    }\n",
       "</style>\n",
       "<table border=\"1\" class=\"dataframe\">\n",
       "  <thead>\n",
       "    <tr style=\"text-align: right;\">\n",
       "      <th></th>\n",
       "      <th>a</th>\n",
       "      <th>b</th>\n",
       "      <th>c</th>\n",
       "      <th>d</th>\n",
       "    </tr>\n",
       "  </thead>\n",
       "  <tbody>\n",
       "    <tr>\n",
       "      <th>0</th>\n",
       "      <td>Atlanta</td>\n",
       "      <td>Georgia</td>\n",
       "      <td>1.25</td>\n",
       "      <td>6</td>\n",
       "    </tr>\n",
       "    <tr>\n",
       "      <th>1</th>\n",
       "      <td>Tallahassee</td>\n",
       "      <td>Florida</td>\n",
       "      <td>2.60</td>\n",
       "      <td>3</td>\n",
       "    </tr>\n",
       "    <tr>\n",
       "      <th>2</th>\n",
       "      <td>Sacramento</td>\n",
       "      <td>California</td>\n",
       "      <td>1.70</td>\n",
       "      <td>5</td>\n",
       "    </tr>\n",
       "  </tbody>\n",
       "</table>\n",
       "</div>"
      ],
      "text/plain": [
       "             a           b     c  d\n",
       "0      Atlanta     Georgia  1.25  6\n",
       "1  Tallahassee     Florida  2.60  3\n",
       "2   Sacramento  California  1.70  5"
      ]
     },
     "execution_count": 40,
     "metadata": {},
     "output_type": "execute_result"
    }
   ],
   "source": [
    "pd.DataFrame(rows, columns=[x[0] for x in cursor.description])"
   ]
  },
  {
   "cell_type": "code",
   "execution_count": 41,
   "metadata": {},
   "outputs": [],
   "source": [
    "import sqlalchemy as sqla"
   ]
  },
  {
   "cell_type": "code",
   "execution_count": 42,
   "metadata": {},
   "outputs": [],
   "source": [
    "db = sqla.create_engine('sqlite:///mydata.sqlite')"
   ]
  },
  {
   "cell_type": "code",
   "execution_count": 43,
   "metadata": {},
   "outputs": [
    {
     "data": {
      "text/html": [
       "<div>\n",
       "<style scoped>\n",
       "    .dataframe tbody tr th:only-of-type {\n",
       "        vertical-align: middle;\n",
       "    }\n",
       "\n",
       "    .dataframe tbody tr th {\n",
       "        vertical-align: top;\n",
       "    }\n",
       "\n",
       "    .dataframe thead th {\n",
       "        text-align: right;\n",
       "    }\n",
       "</style>\n",
       "<table border=\"1\" class=\"dataframe\">\n",
       "  <thead>\n",
       "    <tr style=\"text-align: right;\">\n",
       "      <th></th>\n",
       "      <th>a</th>\n",
       "      <th>b</th>\n",
       "      <th>c</th>\n",
       "      <th>d</th>\n",
       "    </tr>\n",
       "  </thead>\n",
       "  <tbody>\n",
       "  </tbody>\n",
       "</table>\n",
       "</div>"
      ],
      "text/plain": [
       "Empty DataFrame\n",
       "Columns: [a, b, c, d]\n",
       "Index: []"
      ]
     },
     "execution_count": 43,
     "metadata": {},
     "output_type": "execute_result"
    }
   ],
   "source": [
    "pd.read_sql('select * from test', db)"
   ]
  },
  {
   "cell_type": "code",
   "execution_count": null,
   "metadata": {},
   "outputs": [],
   "source": []
  }
 ],
 "metadata": {
  "kernelspec": {
   "display_name": "Python 3",
   "language": "python",
   "name": "python3"
  },
  "language_info": {
   "codemirror_mode": {
    "name": "ipython",
    "version": 3
   },
   "file_extension": ".py",
   "mimetype": "text/x-python",
   "name": "python",
   "nbconvert_exporter": "python",
   "pygments_lexer": "ipython3",
   "version": "3.7.1"
  },
  "toc": {
   "base_numbering": 1,
   "nav_menu": {},
   "number_sections": true,
   "sideBar": true,
   "skip_h1_title": false,
   "title_cell": "Table of Contents",
   "title_sidebar": "Contents",
   "toc_cell": false,
   "toc_position": {},
   "toc_section_display": true,
   "toc_window_display": true
  }
 },
 "nbformat": 4,
 "nbformat_minor": 2
}
